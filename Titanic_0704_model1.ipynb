{
 "cells": [
  {
   "cell_type": "markdown",
   "metadata": {},
   "source": [
    "# 7/4 project 진행\n",
    "---"
   ]
  },
  {
   "cell_type": "markdown",
   "metadata": {},
   "source": [
    "## 학습에 필요한 data load하기"
   ]
  },
  {
   "cell_type": "code",
   "execution_count": 1,
   "metadata": {},
   "outputs": [],
   "source": [
    "import pandas as pd"
   ]
  },
  {
   "cell_type": "code",
   "execution_count": 2,
   "metadata": {},
   "outputs": [],
   "source": [
    "X = pd.read_csv(r'D:\\ML_final_project\\data\\preprocessed_data\\preprocessing_train_2nd.csv')\n",
    "y = pd.read_csv(r'D:\\ML_final_project\\data\\preprocessed_data\\preprocessing_test_2nd.csv')"
   ]
  },
  {
   "cell_type": "markdown",
   "metadata": {},
   "source": [
    "## load한 데이터 확인하기"
   ]
  },
  {
   "cell_type": "code",
   "execution_count": 3,
   "metadata": {},
   "outputs": [
    {
     "data": {
      "text/html": [
       "<div>\n",
       "<style scoped>\n",
       "    .dataframe tbody tr th:only-of-type {\n",
       "        vertical-align: middle;\n",
       "    }\n",
       "\n",
       "    .dataframe tbody tr th {\n",
       "        vertical-align: top;\n",
       "    }\n",
       "\n",
       "    .dataframe thead th {\n",
       "        text-align: right;\n",
       "    }\n",
       "</style>\n",
       "<table border=\"1\" class=\"dataframe\">\n",
       "  <thead>\n",
       "    <tr style=\"text-align: right;\">\n",
       "      <th></th>\n",
       "      <th>Survived</th>\n",
       "      <th>Pclass</th>\n",
       "      <th>Sex</th>\n",
       "      <th>Age</th>\n",
       "      <th>Fare</th>\n",
       "      <th>Embarked</th>\n",
       "      <th>Family</th>\n",
       "    </tr>\n",
       "  </thead>\n",
       "  <tbody>\n",
       "    <tr>\n",
       "      <th>0</th>\n",
       "      <td>0</td>\n",
       "      <td>3</td>\n",
       "      <td>0</td>\n",
       "      <td>1.0</td>\n",
       "      <td>0.0</td>\n",
       "      <td>0</td>\n",
       "      <td>2</td>\n",
       "    </tr>\n",
       "    <tr>\n",
       "      <th>1</th>\n",
       "      <td>1</td>\n",
       "      <td>1</td>\n",
       "      <td>1</td>\n",
       "      <td>2.0</td>\n",
       "      <td>3.0</td>\n",
       "      <td>2</td>\n",
       "      <td>2</td>\n",
       "    </tr>\n",
       "    <tr>\n",
       "      <th>2</th>\n",
       "      <td>1</td>\n",
       "      <td>3</td>\n",
       "      <td>1</td>\n",
       "      <td>1.0</td>\n",
       "      <td>0.0</td>\n",
       "      <td>0</td>\n",
       "      <td>1</td>\n",
       "    </tr>\n",
       "    <tr>\n",
       "      <th>3</th>\n",
       "      <td>1</td>\n",
       "      <td>1</td>\n",
       "      <td>1</td>\n",
       "      <td>2.0</td>\n",
       "      <td>3.0</td>\n",
       "      <td>0</td>\n",
       "      <td>2</td>\n",
       "    </tr>\n",
       "    <tr>\n",
       "      <th>4</th>\n",
       "      <td>0</td>\n",
       "      <td>3</td>\n",
       "      <td>0</td>\n",
       "      <td>2.0</td>\n",
       "      <td>0.0</td>\n",
       "      <td>0</td>\n",
       "      <td>1</td>\n",
       "    </tr>\n",
       "    <tr>\n",
       "      <th>5</th>\n",
       "      <td>0</td>\n",
       "      <td>3</td>\n",
       "      <td>0</td>\n",
       "      <td>1.0</td>\n",
       "      <td>0.0</td>\n",
       "      <td>1</td>\n",
       "      <td>1</td>\n",
       "    </tr>\n",
       "    <tr>\n",
       "      <th>6</th>\n",
       "      <td>0</td>\n",
       "      <td>1</td>\n",
       "      <td>0</td>\n",
       "      <td>3.0</td>\n",
       "      <td>3.0</td>\n",
       "      <td>0</td>\n",
       "      <td>1</td>\n",
       "    </tr>\n",
       "    <tr>\n",
       "      <th>7</th>\n",
       "      <td>0</td>\n",
       "      <td>3</td>\n",
       "      <td>0</td>\n",
       "      <td>0.0</td>\n",
       "      <td>2.0</td>\n",
       "      <td>0</td>\n",
       "      <td>5</td>\n",
       "    </tr>\n",
       "    <tr>\n",
       "      <th>8</th>\n",
       "      <td>1</td>\n",
       "      <td>3</td>\n",
       "      <td>1</td>\n",
       "      <td>1.0</td>\n",
       "      <td>1.0</td>\n",
       "      <td>0</td>\n",
       "      <td>3</td>\n",
       "    </tr>\n",
       "    <tr>\n",
       "      <th>9</th>\n",
       "      <td>1</td>\n",
       "      <td>2</td>\n",
       "      <td>1</td>\n",
       "      <td>0.0</td>\n",
       "      <td>3.0</td>\n",
       "      <td>2</td>\n",
       "      <td>2</td>\n",
       "    </tr>\n",
       "  </tbody>\n",
       "</table>\n",
       "</div>"
      ],
      "text/plain": [
       "   Survived  Pclass  Sex  Age  Fare  Embarked  Family\n",
       "0         0       3    0  1.0   0.0         0       2\n",
       "1         1       1    1  2.0   3.0         2       2\n",
       "2         1       3    1  1.0   0.0         0       1\n",
       "3         1       1    1  2.0   3.0         0       2\n",
       "4         0       3    0  2.0   0.0         0       1\n",
       "5         0       3    0  1.0   0.0         1       1\n",
       "6         0       1    0  3.0   3.0         0       1\n",
       "7         0       3    0  0.0   2.0         0       5\n",
       "8         1       3    1  1.0   1.0         0       3\n",
       "9         1       2    1  0.0   3.0         2       2"
      ]
     },
     "execution_count": 3,
     "metadata": {},
     "output_type": "execute_result"
    }
   ],
   "source": [
    "#9번째 index까지 확인\n",
    "X.head(10)"
   ]
  },
  {
   "cell_type": "code",
   "execution_count": 4,
   "metadata": {},
   "outputs": [
    {
     "data": {
      "text/html": [
       "<div>\n",
       "<style scoped>\n",
       "    .dataframe tbody tr th:only-of-type {\n",
       "        vertical-align: middle;\n",
       "    }\n",
       "\n",
       "    .dataframe tbody tr th {\n",
       "        vertical-align: top;\n",
       "    }\n",
       "\n",
       "    .dataframe thead th {\n",
       "        text-align: right;\n",
       "    }\n",
       "</style>\n",
       "<table border=\"1\" class=\"dataframe\">\n",
       "  <thead>\n",
       "    <tr style=\"text-align: right;\">\n",
       "      <th></th>\n",
       "      <th>Pclass</th>\n",
       "      <th>Sex</th>\n",
       "      <th>Age</th>\n",
       "      <th>Fare</th>\n",
       "      <th>Embarked</th>\n",
       "      <th>Family</th>\n",
       "    </tr>\n",
       "  </thead>\n",
       "  <tbody>\n",
       "    <tr>\n",
       "      <th>0</th>\n",
       "      <td>3</td>\n",
       "      <td>0</td>\n",
       "      <td>0.0</td>\n",
       "      <td>0.0</td>\n",
       "      <td>1</td>\n",
       "      <td>1</td>\n",
       "    </tr>\n",
       "    <tr>\n",
       "      <th>1</th>\n",
       "      <td>3</td>\n",
       "      <td>1</td>\n",
       "      <td>0.0</td>\n",
       "      <td>0.0</td>\n",
       "      <td>0</td>\n",
       "      <td>2</td>\n",
       "    </tr>\n",
       "    <tr>\n",
       "      <th>2</th>\n",
       "      <td>2</td>\n",
       "      <td>0</td>\n",
       "      <td>0.0</td>\n",
       "      <td>0.0</td>\n",
       "      <td>1</td>\n",
       "      <td>1</td>\n",
       "    </tr>\n",
       "    <tr>\n",
       "      <th>3</th>\n",
       "      <td>3</td>\n",
       "      <td>0</td>\n",
       "      <td>0.0</td>\n",
       "      <td>0.0</td>\n",
       "      <td>0</td>\n",
       "      <td>1</td>\n",
       "    </tr>\n",
       "    <tr>\n",
       "      <th>4</th>\n",
       "      <td>3</td>\n",
       "      <td>1</td>\n",
       "      <td>0.0</td>\n",
       "      <td>1.0</td>\n",
       "      <td>0</td>\n",
       "      <td>3</td>\n",
       "    </tr>\n",
       "    <tr>\n",
       "      <th>5</th>\n",
       "      <td>3</td>\n",
       "      <td>0</td>\n",
       "      <td>0.0</td>\n",
       "      <td>0.0</td>\n",
       "      <td>0</td>\n",
       "      <td>1</td>\n",
       "    </tr>\n",
       "    <tr>\n",
       "      <th>6</th>\n",
       "      <td>3</td>\n",
       "      <td>1</td>\n",
       "      <td>0.0</td>\n",
       "      <td>0.0</td>\n",
       "      <td>1</td>\n",
       "      <td>1</td>\n",
       "    </tr>\n",
       "    <tr>\n",
       "      <th>7</th>\n",
       "      <td>2</td>\n",
       "      <td>0</td>\n",
       "      <td>0.0</td>\n",
       "      <td>2.0</td>\n",
       "      <td>0</td>\n",
       "      <td>3</td>\n",
       "    </tr>\n",
       "    <tr>\n",
       "      <th>8</th>\n",
       "      <td>3</td>\n",
       "      <td>1</td>\n",
       "      <td>0.0</td>\n",
       "      <td>0.0</td>\n",
       "      <td>2</td>\n",
       "      <td>1</td>\n",
       "    </tr>\n",
       "    <tr>\n",
       "      <th>9</th>\n",
       "      <td>3</td>\n",
       "      <td>0</td>\n",
       "      <td>0.0</td>\n",
       "      <td>2.0</td>\n",
       "      <td>0</td>\n",
       "      <td>3</td>\n",
       "    </tr>\n",
       "  </tbody>\n",
       "</table>\n",
       "</div>"
      ],
      "text/plain": [
       "   Pclass  Sex  Age  Fare  Embarked  Family\n",
       "0       3    0  0.0   0.0         1       1\n",
       "1       3    1  0.0   0.0         0       2\n",
       "2       2    0  0.0   0.0         1       1\n",
       "3       3    0  0.0   0.0         0       1\n",
       "4       3    1  0.0   1.0         0       3\n",
       "5       3    0  0.0   0.0         0       1\n",
       "6       3    1  0.0   0.0         1       1\n",
       "7       2    0  0.0   2.0         0       3\n",
       "8       3    1  0.0   0.0         2       1\n",
       "9       3    0  0.0   2.0         0       3"
      ]
     },
     "execution_count": 4,
     "metadata": {},
     "output_type": "execute_result"
    }
   ],
   "source": [
    "#9번째 index까지 확인\n",
    "y.head(10)"
   ]
  },
  {
   "cell_type": "code",
   "execution_count": 28,
   "metadata": {},
   "outputs": [],
   "source": [
    "import matplotlib.pyplot as plt\n",
    "import numpy as np\n",
    "import pandas as pd\n",
    "\n",
    "from keras.models import *\n",
    "from keras.layers import *\n",
    "from keras.optimizers import *\n",
    "from keras.utils import to_categorical\n",
    "from keras.callbacks.callbacks import ModelCheckpoint, EarlyStopping\n",
    "\n",
    "from sklearn.model_selection import train_test_split\n",
    "from sklearn.metrics import confusion_matrix\n",
    "from sklearn.metrics import accuracy_score\n",
    "from sklearn.metrics import precision_recall_fscore_support as score"
   ]
  },
  {
   "cell_type": "code",
   "execution_count": 7,
   "metadata": {},
   "outputs": [],
   "source": [
    "def plot_learning_curve(history):\n",
    "    acc = history.history['acc']\n",
    "    val_acc = history.history['val_acc']\n",
    "    loss = history.history['loss']\n",
    "    val_loss = history.history['val_loss']\n",
    "    epochs = range(1, len(acc) + 1)\n",
    "\n",
    "    plt.figure(figsize=(15, 5))\n",
    "\n",
    "    plt.subplot(121)\n",
    "    plt.title('Training and validation accuracy')\n",
    "    plt.plot(epochs, acc, '-', label='Training acc')\n",
    "    plt.plot(epochs, val_acc, '-', label='Validation acc')\n",
    "    plt.legend()\n",
    "\n",
    "    plt.subplot(122)\n",
    "    plt.title('Training and validation loss')\n",
    "    plt.plot(epochs, loss, '-', label='Training loss')\n",
    "    plt.plot(epochs, val_loss, '-', label='Validation loss')\n",
    "    plt.legend()\n",
    "\n",
    "    plt.show()"
   ]
  },
  {
   "cell_type": "markdown",
   "metadata": {},
   "source": [
    "## dataset 나누기"
   ]
  },
  {
   "cell_type": "markdown",
   "metadata": {},
   "source": [
    "Survived column은 label로 사용하고 이외의 column들은 input data로 사용하겠다.  \n",
    "생각해보니 이전 project들을 진행하면서 train과 test data를 X, y라고 표현했는데, X와 y는 지금 사용할 train data의 input과 label로 사용하는 것이 조금 더 정확한 것 같다. 이전에는 그냥 train과 test라고 변수명을 설정하는 것이 더 가독성이 좋았을 것 같다."
   ]
  },
  {
   "cell_type": "code",
   "execution_count": 8,
   "metadata": {},
   "outputs": [],
   "source": [
    "train = X\n",
    "test = y"
   ]
  },
  {
   "cell_type": "markdown",
   "metadata": {},
   "source": [
    "### dataset 구성하기"
   ]
  },
  {
   "cell_type": "code",
   "execution_count": 9,
   "metadata": {},
   "outputs": [],
   "source": [
    "X = train.drop('Survived', axis=1).values\n",
    "y = train['Survived'].values"
   ]
  },
  {
   "cell_type": "code",
   "execution_count": 10,
   "metadata": {},
   "outputs": [],
   "source": [
    "y_one_hot = to_categorical(y)"
   ]
  },
  {
   "cell_type": "code",
   "execution_count": 11,
   "metadata": {},
   "outputs": [],
   "source": [
    "X_train, X_test, y_train, y_test = train_test_split(X, y_one_hot, test_size=0.1, random_state=42)\n",
    "X_train, X_val, y_train, y_val = train_test_split(X_train, y_train, test_size=0.1, random_state=42)"
   ]
  },
  {
   "cell_type": "markdown",
   "metadata": {},
   "source": [
    "### 실제 test set 구성하기"
   ]
  },
  {
   "cell_type": "code",
   "execution_count": 12,
   "metadata": {},
   "outputs": [],
   "source": [
    "X_real_test = test.values"
   ]
  },
  {
   "cell_type": "markdown",
   "metadata": {},
   "source": [
    "### dataset 확인하기"
   ]
  },
  {
   "cell_type": "code",
   "execution_count": 13,
   "metadata": {},
   "outputs": [
    {
     "name": "stdout",
     "output_type": "stream",
     "text": [
      "Training set shape :    X (720, 6) | y (720, 2)\n",
      "Validation set shape :  X (81, 6)  | y (81, 2)\n",
      "Test set shape :        X (90, 6)  | y (90, 2)\n"
     ]
    }
   ],
   "source": [
    "print('Training set shape :   ', 'X', X_train.shape, '|', 'y', y_train.shape)\n",
    "print('Validation set shape : ', 'X', X_val.shape, ' |', 'y', y_val.shape)\n",
    "print('Test set shape :       ', 'X', X_test.shape, ' |', 'y', y_test.shape)"
   ]
  },
  {
   "cell_type": "markdown",
   "metadata": {},
   "source": [
    "### Model 구성하기"
   ]
  },
  {
   "cell_type": "markdown",
   "metadata": {},
   "source": [
    "model은 각 feature들의 연관성을 찾고자 FCN으로 구성해보았다.  \n",
    "Dense layer의 activation function은 relu로 설정했고, 마지막층인 output layer의 activation은 이 과제가 생존여부(0, 1)을 classification 하는 것이기 때문에 sigmoid로 설정했다.  \n",
    "optimizer는 adam, loss function은 이진분류에 좋은 성능을 보이는 binary_crossentropy로 설정했다."
   ]
  },
  {
   "cell_type": "code",
   "execution_count": 14,
   "metadata": {},
   "outputs": [],
   "source": [
    "def FCN(input_size = (6,)): #인풋 사이즈 설정\n",
    "    inputs = Input(input_size)\n",
    "    \n",
    "    dense1 = Dense(10, activation='relu')(inputs)\n",
    "    dense2 = Dense(5, activation='relu')(dense1)\n",
    "    dense3 = Dense(3, activation='relu')(dense2)\n",
    "    \n",
    "    outputs = Dense(2, activation='sigmoid')(dense3)\n",
    "    \n",
    "    model = Model(input = inputs, output = outputs)\n",
    "    model.compile(optimizer='adam',loss='binary_crossentropy',metrics=['acc'])\n",
    "    \n",
    "    return model"
   ]
  },
  {
   "cell_type": "code",
   "execution_count": 16,
   "metadata": {},
   "outputs": [
    {
     "name": "stdout",
     "output_type": "stream",
     "text": [
      "Model: \"model_2\"\n",
      "_________________________________________________________________\n",
      "Layer (type)                 Output Shape              Param #   \n",
      "=================================================================\n",
      "input_2 (InputLayer)         (None, 6)                 0         \n",
      "_________________________________________________________________\n",
      "dense_5 (Dense)              (None, 10)                70        \n",
      "_________________________________________________________________\n",
      "dense_6 (Dense)              (None, 5)                 55        \n",
      "_________________________________________________________________\n",
      "dense_7 (Dense)              (None, 3)                 18        \n",
      "_________________________________________________________________\n",
      "dense_8 (Dense)              (None, 2)                 8         \n",
      "=================================================================\n",
      "Total params: 151\n",
      "Trainable params: 151\n",
      "Non-trainable params: 0\n",
      "_________________________________________________________________\n"
     ]
    },
    {
     "name": "stderr",
     "output_type": "stream",
     "text": [
      "C:\\Users\\User\\anaconda3\\lib\\site-packages\\ipykernel_launcher.py:10: UserWarning: Update your `Model` call to the Keras 2 API: `Model(inputs=Tensor(\"in..., outputs=Tensor(\"de...)`\n",
      "  # Remove the CWD from sys.path while we load stuff.\n"
     ]
    }
   ],
   "source": [
    "FCN_model = FCN()\n",
    "FCN_model.summary()"
   ]
  },
  {
   "cell_type": "markdown",
   "metadata": {},
   "source": [
    "### Model hyperparmeter 설정하기"
   ]
  },
  {
   "cell_type": "markdown",
   "metadata": {},
   "source": [
    "10 epoch 마다 model을 저장한다.  \n",
    "저장된 모델은 나중에 다시 꺼내서 쓸 수도 있고, model test에도 사용될 것이다."
   ]
  },
  {
   "cell_type": "code",
   "execution_count": 17,
   "metadata": {},
   "outputs": [],
   "source": [
    "save_path = 'D:\\ML_final_project\\model' #model을 저장할 폴더 경로\n",
    "num_batch = 16\n",
    "num_epoch = 100\n",
    "num_period = 10 #model을 저장하는 간격"
   ]
  },
  {
   "cell_type": "code",
   "execution_count": 18,
   "metadata": {},
   "outputs": [],
   "source": [
    "checkpointer = ModelCheckpoint(save_path + '/' + 'm0704_' + '{epoch:04d}.hdf5',\n",
    "                               monitor='val_loss',\n",
    "                               period=num_period)"
   ]
  },
  {
   "cell_type": "markdown",
   "metadata": {},
   "source": [
    "#### 아래 셀은 이번 project에는 사용하지 않겠다."
   ]
  },
  {
   "cell_type": "code",
   "execution_count": 19,
   "metadata": {},
   "outputs": [],
   "source": [
    "# early_stopping = EarlyStopping(monitor='val_loss',\n",
    "#                                patience=10,\n",
    "#                                mode='min')"
   ]
  },
  {
   "cell_type": "markdown",
   "metadata": {},
   "source": [
    "### Model training 하기"
   ]
  },
  {
   "cell_type": "code",
   "execution_count": 20,
   "metadata": {},
   "outputs": [
    {
     "name": "stdout",
     "output_type": "stream",
     "text": [
      "WARNING:tensorflow:From C:\\Users\\User\\anaconda3\\lib\\site-packages\\keras\\backend\\tensorflow_backend.py:422: The name tf.global_variables is deprecated. Please use tf.compat.v1.global_variables instead.\n",
      "\n",
      "Train on 720 samples, validate on 81 samples\n",
      "Epoch 1/100\n",
      "720/720 [==============================] - 0s 249us/step - loss: 0.6821 - acc: 0.6208 - val_loss: 0.6777 - val_acc: 0.5926\n",
      "Epoch 2/100\n",
      "720/720 [==============================] - 0s 44us/step - loss: 0.6609 - acc: 0.6208 - val_loss: 0.6670 - val_acc: 0.5926\n",
      "Epoch 3/100\n",
      "720/720 [==============================] - 0s 43us/step - loss: 0.6450 - acc: 0.6208 - val_loss: 0.6571 - val_acc: 0.5926\n",
      "Epoch 4/100\n",
      "720/720 [==============================] - 0s 43us/step - loss: 0.6299 - acc: 0.6208 - val_loss: 0.6478 - val_acc: 0.5926\n",
      "Epoch 5/100\n",
      "720/720 [==============================] - 0s 44us/step - loss: 0.6149 - acc: 0.6208 - val_loss: 0.6351 - val_acc: 0.5926\n",
      "Epoch 6/100\n",
      "720/720 [==============================] - 0s 44us/step - loss: 0.5974 - acc: 0.6250 - val_loss: 0.6253 - val_acc: 0.5926\n",
      "Epoch 7/100\n",
      "720/720 [==============================] - 0s 44us/step - loss: 0.5801 - acc: 0.6431 - val_loss: 0.6137 - val_acc: 0.6235\n",
      "Epoch 8/100\n",
      "720/720 [==============================] - 0s 43us/step - loss: 0.5641 - acc: 0.6597 - val_loss: 0.5986 - val_acc: 0.6296\n",
      "Epoch 9/100\n",
      "720/720 [==============================] - 0s 44us/step - loss: 0.5530 - acc: 0.6924 - val_loss: 0.5859 - val_acc: 0.6728\n",
      "Epoch 10/100\n",
      "720/720 [==============================] - 0s 46us/step - loss: 0.5443 - acc: 0.7285 - val_loss: 0.5697 - val_acc: 0.6975\n",
      "Epoch 11/100\n",
      "720/720 [==============================] - 0s 44us/step - loss: 0.5360 - acc: 0.7521 - val_loss: 0.5558 - val_acc: 0.7222\n",
      "Epoch 12/100\n",
      "720/720 [==============================] - 0s 43us/step - loss: 0.5289 - acc: 0.7771 - val_loss: 0.5523 - val_acc: 0.7284\n",
      "Epoch 13/100\n",
      "720/720 [==============================] - 0s 42us/step - loss: 0.5239 - acc: 0.7743 - val_loss: 0.5384 - val_acc: 0.7407\n",
      "Epoch 14/100\n",
      "720/720 [==============================] - 0s 43us/step - loss: 0.5197 - acc: 0.7868 - val_loss: 0.5332 - val_acc: 0.7407\n",
      "Epoch 15/100\n",
      "720/720 [==============================] - 0s 43us/step - loss: 0.5160 - acc: 0.7937 - val_loss: 0.5336 - val_acc: 0.7407\n",
      "Epoch 16/100\n",
      "720/720 [==============================] - 0s 43us/step - loss: 0.5121 - acc: 0.7910 - val_loss: 0.5247 - val_acc: 0.7407\n",
      "Epoch 17/100\n",
      "720/720 [==============================] - 0s 47us/step - loss: 0.5092 - acc: 0.7958 - val_loss: 0.5168 - val_acc: 0.7654\n",
      "Epoch 18/100\n",
      "720/720 [==============================] - 0s 42us/step - loss: 0.5069 - acc: 0.8021 - val_loss: 0.5162 - val_acc: 0.7654\n",
      "Epoch 19/100\n",
      "720/720 [==============================] - 0s 44us/step - loss: 0.5046 - acc: 0.8014 - val_loss: 0.5157 - val_acc: 0.7654\n",
      "Epoch 20/100\n",
      "720/720 [==============================] - 0s 44us/step - loss: 0.5032 - acc: 0.8035 - val_loss: 0.5118 - val_acc: 0.7593\n",
      "Epoch 21/100\n",
      "720/720 [==============================] - 0s 44us/step - loss: 0.4998 - acc: 0.8076 - val_loss: 0.5077 - val_acc: 0.7593\n",
      "Epoch 22/100\n",
      "720/720 [==============================] - 0s 44us/step - loss: 0.4976 - acc: 0.8076 - val_loss: 0.5050 - val_acc: 0.7531\n",
      "Epoch 23/100\n",
      "720/720 [==============================] - 0s 44us/step - loss: 0.4963 - acc: 0.8062 - val_loss: 0.5091 - val_acc: 0.7593\n",
      "Epoch 24/100\n",
      "720/720 [==============================] - 0s 44us/step - loss: 0.4959 - acc: 0.8062 - val_loss: 0.5066 - val_acc: 0.7593\n",
      "Epoch 25/100\n",
      "720/720 [==============================] - 0s 44us/step - loss: 0.4926 - acc: 0.8097 - val_loss: 0.5000 - val_acc: 0.7840\n",
      "Epoch 26/100\n",
      "720/720 [==============================] - 0s 43us/step - loss: 0.4915 - acc: 0.8104 - val_loss: 0.4997 - val_acc: 0.7840\n",
      "Epoch 27/100\n",
      "720/720 [==============================] - 0s 44us/step - loss: 0.4901 - acc: 0.8090 - val_loss: 0.4958 - val_acc: 0.8086\n",
      "Epoch 28/100\n",
      "720/720 [==============================] - 0s 43us/step - loss: 0.4884 - acc: 0.8076 - val_loss: 0.5006 - val_acc: 0.7840\n",
      "Epoch 29/100\n",
      "720/720 [==============================] - 0s 44us/step - loss: 0.4879 - acc: 0.8111 - val_loss: 0.4990 - val_acc: 0.7901\n",
      "Epoch 30/100\n",
      "720/720 [==============================] - 0s 44us/step - loss: 0.4860 - acc: 0.8042 - val_loss: 0.4941 - val_acc: 0.7840\n",
      "Epoch 31/100\n",
      "720/720 [==============================] - 0s 47us/step - loss: 0.4833 - acc: 0.8056 - val_loss: 0.4998 - val_acc: 0.7901\n",
      "Epoch 32/100\n",
      "720/720 [==============================] - 0s 44us/step - loss: 0.4834 - acc: 0.8104 - val_loss: 0.4945 - val_acc: 0.7778\n",
      "Epoch 33/100\n",
      "720/720 [==============================] - 0s 43us/step - loss: 0.4812 - acc: 0.8118 - val_loss: 0.4933 - val_acc: 0.7778\n",
      "Epoch 34/100\n",
      "720/720 [==============================] - 0s 43us/step - loss: 0.4802 - acc: 0.8132 - val_loss: 0.4952 - val_acc: 0.7840\n",
      "Epoch 35/100\n",
      "720/720 [==============================] - 0s 43us/step - loss: 0.4787 - acc: 0.8118 - val_loss: 0.4946 - val_acc: 0.7840\n",
      "Epoch 36/100\n",
      "720/720 [==============================] - 0s 44us/step - loss: 0.4780 - acc: 0.8049 - val_loss: 0.4947 - val_acc: 0.7840\n",
      "Epoch 37/100\n",
      "720/720 [==============================] - 0s 48us/step - loss: 0.4770 - acc: 0.8139 - val_loss: 0.4893 - val_acc: 0.7716\n",
      "Epoch 38/100\n",
      "720/720 [==============================] - 0s 44us/step - loss: 0.4755 - acc: 0.8069 - val_loss: 0.4948 - val_acc: 0.7901\n",
      "Epoch 39/100\n",
      "720/720 [==============================] - 0s 44us/step - loss: 0.4743 - acc: 0.8125 - val_loss: 0.4931 - val_acc: 0.7840\n",
      "Epoch 40/100\n",
      "720/720 [==============================] - 0s 46us/step - loss: 0.4733 - acc: 0.8097 - val_loss: 0.4894 - val_acc: 0.7716\n",
      "Epoch 41/100\n",
      "720/720 [==============================] - 0s 44us/step - loss: 0.4725 - acc: 0.8090 - val_loss: 0.4923 - val_acc: 0.7840\n",
      "Epoch 42/100\n",
      "720/720 [==============================] - 0s 44us/step - loss: 0.4711 - acc: 0.8104 - val_loss: 0.4898 - val_acc: 0.7716\n",
      "Epoch 43/100\n",
      "720/720 [==============================] - 0s 46us/step - loss: 0.4708 - acc: 0.8118 - val_loss: 0.4863 - val_acc: 0.7593\n",
      "Epoch 44/100\n",
      "720/720 [==============================] - 0s 43us/step - loss: 0.4707 - acc: 0.8076 - val_loss: 0.4890 - val_acc: 0.7716\n",
      "Epoch 45/100\n",
      "720/720 [==============================] - 0s 43us/step - loss: 0.4690 - acc: 0.8118 - val_loss: 0.4877 - val_acc: 0.7654\n",
      "Epoch 46/100\n",
      "720/720 [==============================] - 0s 43us/step - loss: 0.4679 - acc: 0.8090 - val_loss: 0.4839 - val_acc: 0.7901\n",
      "Epoch 47/100\n",
      "720/720 [==============================] - 0s 43us/step - loss: 0.4681 - acc: 0.8049 - val_loss: 0.4942 - val_acc: 0.7901\n",
      "Epoch 48/100\n",
      "720/720 [==============================] - 0s 43us/step - loss: 0.4665 - acc: 0.8083 - val_loss: 0.4816 - val_acc: 0.8086\n",
      "Epoch 49/100\n",
      "720/720 [==============================] - 0s 42us/step - loss: 0.4709 - acc: 0.8042 - val_loss: 0.4780 - val_acc: 0.8086\n",
      "Epoch 50/100\n",
      "720/720 [==============================] - 0s 44us/step - loss: 0.4687 - acc: 0.8000 - val_loss: 0.4812 - val_acc: 0.7901\n",
      "Epoch 51/100\n",
      "720/720 [==============================] - 0s 47us/step - loss: 0.4654 - acc: 0.8111 - val_loss: 0.4780 - val_acc: 0.8086\n",
      "Epoch 52/100\n",
      "720/720 [==============================] - 0s 48us/step - loss: 0.4651 - acc: 0.8111 - val_loss: 0.4790 - val_acc: 0.8210\n",
      "Epoch 53/100\n",
      "720/720 [==============================] - 0s 43us/step - loss: 0.4633 - acc: 0.8111 - val_loss: 0.4801 - val_acc: 0.7901\n",
      "Epoch 54/100\n",
      "720/720 [==============================] - 0s 43us/step - loss: 0.4641 - acc: 0.8069 - val_loss: 0.4803 - val_acc: 0.7963\n",
      "Epoch 55/100\n",
      "720/720 [==============================] - 0s 46us/step - loss: 0.4618 - acc: 0.8035 - val_loss: 0.4845 - val_acc: 0.7778\n",
      "Epoch 56/100\n",
      "720/720 [==============================] - 0s 42us/step - loss: 0.4612 - acc: 0.8083 - val_loss: 0.4793 - val_acc: 0.8025\n",
      "Epoch 57/100\n",
      "720/720 [==============================] - 0s 43us/step - loss: 0.4608 - acc: 0.8111 - val_loss: 0.4816 - val_acc: 0.7778\n",
      "Epoch 58/100\n",
      "720/720 [==============================] - 0s 44us/step - loss: 0.4601 - acc: 0.8104 - val_loss: 0.4788 - val_acc: 0.7654\n",
      "Epoch 59/100\n",
      "720/720 [==============================] - 0s 46us/step - loss: 0.4593 - acc: 0.8104 - val_loss: 0.4765 - val_acc: 0.7901\n"
     ]
    },
    {
     "name": "stdout",
     "output_type": "stream",
     "text": [
      "Epoch 60/100\n",
      "720/720 [==============================] - 0s 46us/step - loss: 0.4591 - acc: 0.8076 - val_loss: 0.4756 - val_acc: 0.7901\n",
      "Epoch 61/100\n",
      "720/720 [==============================] - 0s 46us/step - loss: 0.4586 - acc: 0.8069 - val_loss: 0.4768 - val_acc: 0.7593\n",
      "Epoch 62/100\n",
      "720/720 [==============================] - 0s 44us/step - loss: 0.4591 - acc: 0.8090 - val_loss: 0.4726 - val_acc: 0.8086\n",
      "Epoch 63/100\n",
      "720/720 [==============================] - 0s 46us/step - loss: 0.4581 - acc: 0.8035 - val_loss: 0.4729 - val_acc: 0.8086\n",
      "Epoch 64/100\n",
      "720/720 [==============================] - 0s 46us/step - loss: 0.4572 - acc: 0.8062 - val_loss: 0.4768 - val_acc: 0.7593\n",
      "Epoch 65/100\n",
      "720/720 [==============================] - 0s 46us/step - loss: 0.4561 - acc: 0.8090 - val_loss: 0.4729 - val_acc: 0.8148\n",
      "Epoch 66/100\n",
      "720/720 [==============================] - 0s 47us/step - loss: 0.4558 - acc: 0.8076 - val_loss: 0.4841 - val_acc: 0.7840\n",
      "Epoch 67/100\n",
      "720/720 [==============================] - 0s 51us/step - loss: 0.4548 - acc: 0.8160 - val_loss: 0.4702 - val_acc: 0.8086\n",
      "Epoch 68/100\n",
      "720/720 [==============================] - 0s 42us/step - loss: 0.4560 - acc: 0.8049 - val_loss: 0.4743 - val_acc: 0.7593\n",
      "Epoch 69/100\n",
      "720/720 [==============================] - 0s 42us/step - loss: 0.4554 - acc: 0.8104 - val_loss: 0.4738 - val_acc: 0.7963\n",
      "Epoch 70/100\n",
      "720/720 [==============================] - 0s 43us/step - loss: 0.4542 - acc: 0.8090 - val_loss: 0.4745 - val_acc: 0.7716\n",
      "Epoch 71/100\n",
      "720/720 [==============================] - 0s 42us/step - loss: 0.4549 - acc: 0.8069 - val_loss: 0.4773 - val_acc: 0.7778\n",
      "Epoch 72/100\n",
      "720/720 [==============================] - 0s 42us/step - loss: 0.4531 - acc: 0.8139 - val_loss: 0.4689 - val_acc: 0.8086\n",
      "Epoch 73/100\n",
      "720/720 [==============================] - 0s 43us/step - loss: 0.4540 - acc: 0.8104 - val_loss: 0.4686 - val_acc: 0.8086\n",
      "Epoch 74/100\n",
      "720/720 [==============================] - 0s 44us/step - loss: 0.4516 - acc: 0.8111 - val_loss: 0.4728 - val_acc: 0.7654\n",
      "Epoch 75/100\n",
      "720/720 [==============================] - 0s 43us/step - loss: 0.4518 - acc: 0.8111 - val_loss: 0.4710 - val_acc: 0.7593\n",
      "Epoch 76/100\n",
      "720/720 [==============================] - 0s 43us/step - loss: 0.4507 - acc: 0.8090 - val_loss: 0.4787 - val_acc: 0.7778\n",
      "Epoch 77/100\n",
      "720/720 [==============================] - 0s 43us/step - loss: 0.4510 - acc: 0.8118 - val_loss: 0.4710 - val_acc: 0.7469\n",
      "Epoch 78/100\n",
      "720/720 [==============================] - 0s 43us/step - loss: 0.4504 - acc: 0.8042 - val_loss: 0.4713 - val_acc: 0.7531\n",
      "Epoch 79/100\n",
      "720/720 [==============================] - 0s 43us/step - loss: 0.4527 - acc: 0.8049 - val_loss: 0.4670 - val_acc: 0.7901\n",
      "Epoch 80/100\n",
      "720/720 [==============================] - 0s 42us/step - loss: 0.4511 - acc: 0.8042 - val_loss: 0.4689 - val_acc: 0.7778\n",
      "Epoch 81/100\n",
      "720/720 [==============================] - 0s 46us/step - loss: 0.4488 - acc: 0.8076 - val_loss: 0.4701 - val_acc: 0.7593\n",
      "Epoch 82/100\n",
      "720/720 [==============================] - 0s 51us/step - loss: 0.4491 - acc: 0.8076 - val_loss: 0.4699 - val_acc: 0.7469\n",
      "Epoch 83/100\n",
      "720/720 [==============================] - 0s 44us/step - loss: 0.4471 - acc: 0.8097 - val_loss: 0.4759 - val_acc: 0.7778\n",
      "Epoch 84/100\n",
      "720/720 [==============================] - 0s 46us/step - loss: 0.4483 - acc: 0.8111 - val_loss: 0.4714 - val_acc: 0.7778\n",
      "Epoch 85/100\n",
      "720/720 [==============================] - 0s 44us/step - loss: 0.4470 - acc: 0.8104 - val_loss: 0.4690 - val_acc: 0.7469\n",
      "Epoch 86/100\n",
      "720/720 [==============================] - 0s 44us/step - loss: 0.4475 - acc: 0.8097 - val_loss: 0.4678 - val_acc: 0.7469\n",
      "Epoch 87/100\n",
      "720/720 [==============================] - 0s 43us/step - loss: 0.4467 - acc: 0.7972 - val_loss: 0.4764 - val_acc: 0.7901\n",
      "Epoch 88/100\n",
      "720/720 [==============================] - 0s 43us/step - loss: 0.4474 - acc: 0.8118 - val_loss: 0.4643 - val_acc: 0.8025\n",
      "Epoch 89/100\n",
      "720/720 [==============================] - 0s 43us/step - loss: 0.4468 - acc: 0.8069 - val_loss: 0.4661 - val_acc: 0.7778\n",
      "Epoch 90/100\n",
      "720/720 [==============================] - 0s 42us/step - loss: 0.4455 - acc: 0.8062 - val_loss: 0.4715 - val_acc: 0.7716\n",
      "Epoch 91/100\n",
      "720/720 [==============================] - 0s 43us/step - loss: 0.4462 - acc: 0.8028 - val_loss: 0.4664 - val_acc: 0.7469\n",
      "Epoch 92/100\n",
      "720/720 [==============================] - 0s 43us/step - loss: 0.4465 - acc: 0.8132 - val_loss: 0.4655 - val_acc: 0.7469\n",
      "Epoch 93/100\n",
      "720/720 [==============================] - 0s 44us/step - loss: 0.4456 - acc: 0.8111 - val_loss: 0.4682 - val_acc: 0.7593\n",
      "Epoch 94/100\n",
      "720/720 [==============================] - 0s 46us/step - loss: 0.4442 - acc: 0.8111 - val_loss: 0.4659 - val_acc: 0.7469\n",
      "Epoch 95/100\n",
      "720/720 [==============================] - 0s 43us/step - loss: 0.4446 - acc: 0.8090 - val_loss: 0.4690 - val_acc: 0.7778\n",
      "Epoch 96/100\n",
      "720/720 [==============================] - 0s 47us/step - loss: 0.4430 - acc: 0.8132 - val_loss: 0.4686 - val_acc: 0.7593\n",
      "Epoch 97/100\n",
      "720/720 [==============================] - 0s 47us/step - loss: 0.4442 - acc: 0.8090 - val_loss: 0.4707 - val_acc: 0.7778\n",
      "Epoch 98/100\n",
      "720/720 [==============================] - 0s 43us/step - loss: 0.4423 - acc: 0.8090 - val_loss: 0.4660 - val_acc: 0.7593\n",
      "Epoch 99/100\n",
      "720/720 [==============================] - 0s 43us/step - loss: 0.4416 - acc: 0.8076 - val_loss: 0.4683 - val_acc: 0.7778\n",
      "Epoch 100/100\n",
      "720/720 [==============================] - 0s 46us/step - loss: 0.4432 - acc: 0.8125 - val_loss: 0.4626 - val_acc: 0.7469\n"
     ]
    }
   ],
   "source": [
    "FCN_histories = list()\n",
    "\n",
    "FCN_history = FCN_model.fit(X_train, y_train,\n",
    "                            validation_data=(X_val,y_val),\n",
    "                            batch_size=num_batch,\n",
    "                            epochs=num_epoch,\n",
    "                            shuffle=True,\n",
    "                            callbacks=[checkpointer])\n",
    "\n",
    "FCN_histories.append(FCN_history)"
   ]
  },
  {
   "cell_type": "markdown",
   "metadata": {},
   "source": [
    "### Learning graph 나타내기"
   ]
  },
  {
   "cell_type": "code",
   "execution_count": 21,
   "metadata": {},
   "outputs": [
    {
     "data": {
      "image/png": "[encoded data removed]",
      "text/plain": [
       "<Figure size 1080x360 with 2 Axes>"
      ]
     },
     "metadata": {
      "needs_background": "light"
     },
     "output_type": "display_data"
    }
   ],
   "source": [
    "for idx, history in enumerate(FCN_histories):\n",
    "    plot_learning_curve(history)"
   ]
  },
  {
   "cell_type": "markdown",
   "metadata": {},
   "source": [
    "### Model test 하기"
   ]
  },
  {
   "cell_type": "code",
   "execution_count": 44,
   "metadata": {},
   "outputs": [],
   "source": [
    "model_path = r'D:\\ML_final_project\\model\\m0704\\m0704_0100.hdf5'\n",
    "model = load_model(model_path)"
   ]
  },
  {
   "cell_type": "code",
   "execution_count": 45,
   "metadata": {},
   "outputs": [
    {
     "name": "stdout",
     "output_type": "stream",
     "text": [
      "y_true = [1 0 0 1 1 1 1 0 1 1 0 0 0 0 0 1 1 1 0 0 0 1 1 0 0 0 0 1 0 0 0 1 0 0 1 0 1\n",
      " 1 1 0 0 0 0 0 0 0 0 0 0 0 1 1 0 1 0 1 0 1 1 1 0 1 1 0 0 0 0 0 0 1 0 1 1 1\n",
      " 0 0 0 1 0 0 0 1 1 0 0 0 1 1 0 0]\n",
      "y_pred = [0 0 0 1 1 1 1 0 1 1 0 0 0 0 0 1 0 1 0 0 0 0 1 0 0 0 0 0 0 0 0 0 1 0 0 0 0\n",
      " 1 1 0 0 0 0 0 1 0 0 0 0 0 1 1 0 1 0 1 0 1 1 1 0 1 1 1 0 1 0 0 0 1 1 1 1 1\n",
      " 0 0 1 1 1 1 0 1 1 0 0 0 1 1 0 0]\n",
      "--------------------------------------------------\n",
      "<confusion_mat>\n"
     ]
    },
    {
     "data": {
      "text/plain": [
       "array([[46,  8],\n",
       "       [ 7, 29]], dtype=int64)"
      ]
     },
     "execution_count": 45,
     "metadata": {},
     "output_type": "execute_result"
    }
   ],
   "source": [
    "y_label = np.argmax(y_test, 1)\n",
    "y_fit = np.argmax(FCN_model.predict(X_test), 1)\n",
    "confusion_mat = confusion_matrix(y_label, y_fit)\n",
    "\n",
    "print('y_true =', y_label)\n",
    "print('y_pred =', y_fit)\n",
    "print('-' * 50)\n",
    "print('<confusion_mat>')\n",
    "confusion_mat"
   ]
  },
  {
   "cell_type": "code",
   "execution_count": 46,
   "metadata": {},
   "outputs": [
    {
     "name": "stdout",
     "output_type": "stream",
     "text": [
      "accuracy  : 0.8333333333333334\n",
      "recall    : [0.85185185 0.80555556]\n",
      "precision : [0.86792453 0.78378378]\n",
      "fscore    : [0.85981308 0.79452055]\n",
      "support   : [54 36]\n"
     ]
    }
   ],
   "source": [
    "precision, recall, fscore, support = score(y_label, y_fit)\n",
    "\n",
    "print('accuracy  :', accuracy)\n",
    "print('recall    :', recall)\n",
    "print('precision :', precision)\n",
    "print('fscore    :', fscore)\n",
    "print('support   :', support)"
   ]
  },
  {
   "cell_type": "markdown",
   "metadata": {},
   "source": [
    "---\n",
    "## training에 사용되지 않은 data로 model inference 하기"
   ]
  },
  {
   "cell_type": "markdown",
   "metadata": {},
   "source": [
    "kaggle 홈페이지에서 제공한 gender_submission이라는 csv파일을 갖고 model을 inference 해보겠다."
   ]
  },
  {
   "cell_type": "code",
   "execution_count": 47,
   "metadata": {},
   "outputs": [],
   "source": [
    "y_real_test = pd.read_csv('D:\\ML_final_project\\data\\gender_submission.csv')"
   ]
  },
  {
   "cell_type": "code",
   "execution_count": 48,
   "metadata": {},
   "outputs": [
    {
     "data": {
      "text/html": [
       "<div>\n",
       "<style scoped>\n",
       "    .dataframe tbody tr th:only-of-type {\n",
       "        vertical-align: middle;\n",
       "    }\n",
       "\n",
       "    .dataframe tbody tr th {\n",
       "        vertical-align: top;\n",
       "    }\n",
       "\n",
       "    .dataframe thead th {\n",
       "        text-align: right;\n",
       "    }\n",
       "</style>\n",
       "<table border=\"1\" class=\"dataframe\">\n",
       "  <thead>\n",
       "    <tr style=\"text-align: right;\">\n",
       "      <th></th>\n",
       "      <th>PassengerId</th>\n",
       "      <th>Survived</th>\n",
       "    </tr>\n",
       "  </thead>\n",
       "  <tbody>\n",
       "    <tr>\n",
       "      <th>0</th>\n",
       "      <td>892</td>\n",
       "      <td>0</td>\n",
       "    </tr>\n",
       "    <tr>\n",
       "      <th>1</th>\n",
       "      <td>893</td>\n",
       "      <td>1</td>\n",
       "    </tr>\n",
       "    <tr>\n",
       "      <th>2</th>\n",
       "      <td>894</td>\n",
       "      <td>0</td>\n",
       "    </tr>\n",
       "    <tr>\n",
       "      <th>3</th>\n",
       "      <td>895</td>\n",
       "      <td>0</td>\n",
       "    </tr>\n",
       "    <tr>\n",
       "      <th>4</th>\n",
       "      <td>896</td>\n",
       "      <td>1</td>\n",
       "    </tr>\n",
       "    <tr>\n",
       "      <th>5</th>\n",
       "      <td>897</td>\n",
       "      <td>0</td>\n",
       "    </tr>\n",
       "    <tr>\n",
       "      <th>6</th>\n",
       "      <td>898</td>\n",
       "      <td>1</td>\n",
       "    </tr>\n",
       "    <tr>\n",
       "      <th>7</th>\n",
       "      <td>899</td>\n",
       "      <td>0</td>\n",
       "    </tr>\n",
       "    <tr>\n",
       "      <th>8</th>\n",
       "      <td>900</td>\n",
       "      <td>1</td>\n",
       "    </tr>\n",
       "    <tr>\n",
       "      <th>9</th>\n",
       "      <td>901</td>\n",
       "      <td>0</td>\n",
       "    </tr>\n",
       "  </tbody>\n",
       "</table>\n",
       "</div>"
      ],
      "text/plain": [
       "   PassengerId  Survived\n",
       "0          892         0\n",
       "1          893         1\n",
       "2          894         0\n",
       "3          895         0\n",
       "4          896         1\n",
       "5          897         0\n",
       "6          898         1\n",
       "7          899         0\n",
       "8          900         1\n",
       "9          901         0"
      ]
     },
     "execution_count": 48,
     "metadata": {},
     "output_type": "execute_result"
    }
   ],
   "source": [
    "y_real_test.head(10)"
   ]
  },
  {
   "cell_type": "code",
   "execution_count": 50,
   "metadata": {},
   "outputs": [
    {
     "name": "stdout",
     "output_type": "stream",
     "text": [
      "y_true = [0 1 0 0 1 0 1 0 1 0 0 0 1 0 1 1 0 0 1 1 0 0 1 0 1 0 1 0 0 0 0 0 1 1 0 0 1\n",
      " 1 0 0 0 0 0 1 1 0 0 0 1 1 0 0 1 1 0 0 0 0 0 1 0 0 0 1 0 1 1 0 0 1 1 0 1 0\n",
      " 1 0 0 1 0 1 0 0 0 0 0 0 1 1 1 0 1 0 1 0 0 0 1 0 1 0 1 0 0 0 1 0 0 0 0 0 0\n",
      " 1 1 1 1 0 0 1 0 1 1 0 1 0 0 1 0 1 0 0 0 0 1 0 0 0 0 0 1 0 1 1 0 0 0 0 0 0\n",
      " 0 0 1 0 0 1 0 0 1 1 0 1 1 0 1 0 0 1 0 0 1 1 0 0 0 0 0 1 1 0 1 1 0 0 1 0 1\n",
      " 0 1 0 1 0 0 0 0 0 0 0 0 1 0 1 1 0 0 1 0 0 1 0 1 0 0 0 0 1 1 0 1 0 1 0 1 0\n",
      " 1 0 1 1 0 1 0 0 0 1 0 0 0 0 0 0 1 1 1 1 0 0 0 0 1 0 1 1 1 0 0 0 0 0 0 0 1\n",
      " 0 0 0 1 1 0 0 0 0 1 0 0 0 1 1 0 1 0 0 0 0 1 0 1 1 1 0 0 0 0 0 0 1 0 0 0 0\n",
      " 1 0 0 0 0 0 0 0 1 1 0 0 0 1 0 0 0 1 1 1 0 0 0 0 0 0 0 0 1 0 1 0 0 0 1 0 0\n",
      " 1 0 0 0 0 0 0 0 0 0 1 0 1 0 1 0 1 1 0 0 0 1 0 1 0 0 1 0 1 1 0 1 1 0 1 1 0\n",
      " 0 1 0 0 1 1 1 0 0 0 0 0 1 1 0 1 0 0 0 0 0 1 0 0 0 1 0 1 0 0 1 0 1 0 0 0 0\n",
      " 0 1 1 1 1 1 0 1 0 0 0]\n",
      "y_pred = [0 1 0 0 1 0 1 0 1 0 0 1 1 0 1 1 0 0 1 1 1 0 1 1 1 0 1 0 1 0 0 0 1 1 1 0 1\n",
      " 1 0 0 0 1 0 1 1 0 1 0 1 1 1 0 1 1 0 0 0 0 0 1 0 0 0 1 1 1 1 1 1 1 1 0 1 1\n",
      " 1 1 0 1 0 1 0 1 1 0 0 0 1 1 1 0 1 0 1 0 1 0 1 0 1 0 1 0 0 0 1 0 0 0 0 0 0\n",
      " 1 1 1 1 0 0 1 1 1 1 0 1 0 0 1 0 1 0 0 0 1 0 0 0 0 0 0 1 0 0 1 1 0 1 0 1 0\n",
      " 1 0 1 0 0 1 0 0 1 1 1 1 1 0 1 0 0 1 1 0 1 1 0 0 0 0 0 1 1 1 1 1 0 1 1 0 1\n",
      " 0 1 0 0 0 0 1 0 0 0 0 1 1 0 1 1 0 1 1 0 1 1 0 1 0 0 0 0 1 0 1 1 1 1 0 1 0\n",
      " 1 0 1 1 0 1 0 0 0 1 0 0 1 0 1 0 1 1 1 1 1 0 0 1 1 0 1 1 1 0 1 0 0 0 0 0 1\n",
      " 0 0 0 1 1 0 0 1 0 1 0 1 0 1 1 0 1 0 0 0 0 1 0 1 1 1 0 0 1 0 0 1 1 0 1 0 0\n",
      " 1 0 1 0 0 0 0 0 1 1 1 0 1 1 0 0 0 1 1 1 1 0 0 0 0 0 0 1 1 0 1 1 0 0 1 1 0\n",
      " 1 0 1 0 0 0 0 0 0 0 1 0 1 0 1 0 1 1 0 0 0 1 1 1 0 0 1 0 1 1 0 1 0 0 1 1 0\n",
      " 0 1 1 0 1 1 1 0 1 0 0 0 1 1 0 1 0 0 0 0 1 1 0 0 0 1 0 1 0 0 1 0 1 1 1 0 0\n",
      " 1 1 1 1 1 1 0 1 0 0 0]\n",
      "--------------------------------------------------\n",
      "<confusion_mat>\n"
     ]
    },
    {
     "data": {
      "text/plain": [
       "array([[209,  57],\n",
       "       [  5, 147]], dtype=int64)"
      ]
     },
     "execution_count": 50,
     "metadata": {},
     "output_type": "execute_result"
    }
   ],
   "source": [
    "y_real_label_one_hot = to_categorical(y_real_test['Survived'])\n",
    "y_real_label = np.argmax(y_real_label_one_hot, 1)\n",
    "y_real_fit = np.argmax(FCN_model.predict(X_real_test), 1)\n",
    "confusion_mat = confusion_matrix(y_real_label, y_real_fit)\n",
    "\n",
    "print('y_true =', y_real_label)\n",
    "print('y_pred =', y_real_fit)\n",
    "print('-' * 50)\n",
    "print('<confusion_mat>')\n",
    "confusion_mat"
   ]
  },
  {
   "cell_type": "code",
   "execution_count": 51,
   "metadata": {},
   "outputs": [
    {
     "name": "stdout",
     "output_type": "stream",
     "text": [
      "accuracy  : 0.8333333333333334\n",
      "recall    : [0.78571429 0.96710526]\n",
      "precision : [0.97663551 0.72058824]\n",
      "fscore    : [0.87083333 0.8258427 ]\n",
      "support   : [266 152]\n"
     ]
    }
   ],
   "source": [
    "precision, recall, fscore, support = score(y_real_label, y_real_fit)\n",
    "\n",
    "print('accuracy  :', accuracy)\n",
    "print('recall    :', recall)\n",
    "print('precision :', precision)\n",
    "print('fscore    :', fscore)\n",
    "print('support   :', support)"
   ]
  },
  {
   "cell_type": "markdown",
   "metadata": {},
   "source": [
    "## Result"
   ]
  },
  {
   "cell_type": "markdown",
   "metadata": {},
   "source": [
    "training에 사용되지 않은 test.csv와 gender_submission.csv를 통해 model을 inference 한 결과,  \n",
    "accuracy가 약 0.83이 나온 것을 확인할 수 있었다."
   ]
  },
  {
   "cell_type": "code",
   "execution_count": null,
   "metadata": {},
   "outputs": [],
   "source": []
  }
 ],
 "metadata": {
  "kernelspec": {
   "display_name": "Python 3",
   "language": "python",
   "name": "python3"
  },
  "language_info": {
   "codemirror_mode": {
    "name": "ipython",
    "version": 3
   },
   "file_extension": ".py",
   "mimetype": "text/x-python",
   "name": "python",
   "nbconvert_exporter": "python",
   "pygments_lexer": "ipython3",
   "version": "3.7.6"
  }
 },
 "nbformat": 4,
 "nbformat_minor": 4
}

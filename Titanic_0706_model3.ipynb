{
 "cells": [
  {
   "cell_type": "markdown",
   "metadata": {},
   "source": [
    "# 7/6 project 진행\n",
    "---"
   ]
  },
  {
   "cell_type": "markdown",
   "metadata": {},
   "source": [
    "이전 7/4 model 구축 project에서 굉장히 미숙한 부분이 많았다.  \n",
    "우선 model을 inference할 때, 당시 코드의 실행에는 문제가 없었지만 model을 불러올 때 내가 저장한 model이 아닌 jupyter notebook에서 실행되고 있는 변수 모델인 FCN_model을 불러왔다는 점(의미 없는 변수를 만든 거나 마찬가지), 그리고 code를 수정하면서 이전에 실행하여 남아있는 변수인 accuracy가 그대로 남아있는 채로 새로운 accuracy를 출력하지 않고 이전 accuracy를 출력했다는 점이다. 이번 project에선 이러한 부분들을 우선 수정해보고 이전 모델을 다시 학습시켜보겠다."
   ]
  },
  {
   "cell_type": "markdown",
   "metadata": {},
   "source": [
    "## 학습에 필요한 data load하기"
   ]
  },
  {
   "cell_type": "code",
   "execution_count": 1,
   "metadata": {},
   "outputs": [],
   "source": [
    "import pandas as pd"
   ]
  },
  {
   "cell_type": "code",
   "execution_count": 2,
   "metadata": {},
   "outputs": [],
   "source": [
    "train = pd.read_csv(r'D:\\ML_final_project\\data\\preprocessed_data\\preprocessing_train_2nd.csv')\n",
    "test = pd.read_csv(r'D:\\ML_final_project\\data\\preprocessed_data\\preprocessing_test_2nd.csv')"
   ]
  },
  {
   "cell_type": "markdown",
   "metadata": {},
   "source": [
    "## training에 필요한 module import 하기"
   ]
  },
  {
   "cell_type": "code",
   "execution_count": 3,
   "metadata": {},
   "outputs": [],
   "source": [
    "import matplotlib.pyplot as plt\n",
    "import numpy as np\n",
    "import pandas as pd\n",
    "\n",
    "from keras.models import *\n",
    "from keras.layers import *\n",
    "from keras.optimizers import *\n",
    "from keras.utils import to_categorical\n",
    "from keras.callbacks.callbacks import ModelCheckpoint, EarlyStopping\n",
    "\n",
    "from sklearn.model_selection import train_test_split\n",
    "from sklearn.metrics import confusion_matrix\n",
    "from sklearn.metrics import accuracy_score\n",
    "from sklearn.metrics import precision_recall_fscore_support as score"
   ]
  },
  {
   "cell_type": "markdown",
   "metadata": {},
   "source": [
    "## Learning graph를 그려주는 함수"
   ]
  },
  {
   "cell_type": "code",
   "execution_count": 4,
   "metadata": {},
   "outputs": [],
   "source": [
    "def plot_learning_curve(history):\n",
    "    acc = history.history['acc']\n",
    "    val_acc = history.history['val_acc']\n",
    "    loss = history.history['loss']\n",
    "    val_loss = history.history['val_loss']\n",
    "    epochs = range(1, len(acc) + 1)\n",
    "\n",
    "    plt.figure(figsize=(15, 5))\n",
    "\n",
    "    plt.subplot(121)\n",
    "    plt.title('Training and validation accuracy')\n",
    "    plt.plot(epochs, acc, '-', label='Training acc')\n",
    "    plt.plot(epochs, val_acc, '-', label='Validation acc')\n",
    "    plt.legend()\n",
    "\n",
    "    plt.subplot(122)\n",
    "    plt.title('Training and validation loss')\n",
    "    plt.plot(epochs, loss, '-', label='Training loss')\n",
    "    plt.plot(epochs, val_loss, '-', label='Validation loss')\n",
    "    plt.legend()\n",
    "\n",
    "    plt.show()"
   ]
  },
  {
   "cell_type": "markdown",
   "metadata": {},
   "source": [
    "### dataset 구성하기"
   ]
  },
  {
   "cell_type": "code",
   "execution_count": 5,
   "metadata": {},
   "outputs": [],
   "source": [
    "X = train.drop('Survived', axis=1).values\n",
    "y = train['Survived'].values"
   ]
  },
  {
   "cell_type": "code",
   "execution_count": 6,
   "metadata": {},
   "outputs": [],
   "source": [
    "y_one_hot = to_categorical(y)"
   ]
  },
  {
   "cell_type": "code",
   "execution_count": 7,
   "metadata": {},
   "outputs": [],
   "source": [
    "X_train, X_test, y_train, y_test = train_test_split(X, y_one_hot, test_size=0.1, random_state=42)\n",
    "X_train, X_val, y_train, y_val = train_test_split(X_train, y_train, test_size=0.1, random_state=42)"
   ]
  },
  {
   "cell_type": "markdown",
   "metadata": {},
   "source": [
    "### 실제 test set 구성하기"
   ]
  },
  {
   "cell_type": "code",
   "execution_count": 8,
   "metadata": {},
   "outputs": [],
   "source": [
    "X_real_test = test.values"
   ]
  },
  {
   "cell_type": "markdown",
   "metadata": {},
   "source": [
    "### dataset 확인하기"
   ]
  },
  {
   "cell_type": "code",
   "execution_count": 9,
   "metadata": {},
   "outputs": [
    {
     "name": "stdout",
     "output_type": "stream",
     "text": [
      "Training set shape :    X (720, 6) | y (720, 2)\n",
      "Validation set shape :  X (81, 6)  | y (81, 2)\n",
      "Test set shape :        X (90, 6)  | y (90, 2)\n"
     ]
    }
   ],
   "source": [
    "print('Training set shape :   ', 'X', X_train.shape, '|', 'y', y_train.shape)\n",
    "print('Validation set shape : ', 'X', X_val.shape, ' |', 'y', y_val.shape)\n",
    "print('Test set shape :       ', 'X', X_test.shape, ' |', 'y', y_test.shape)"
   ]
  },
  {
   "cell_type": "markdown",
   "metadata": {},
   "source": [
    "### Model 구성하기"
   ]
  },
  {
   "cell_type": "markdown",
   "metadata": {},
   "source": [
    "model은 각 feature들의 연관성을 찾고자 FCN으로 구성해보았다.  \n",
    "Dense layer의 activation function은 relu로 설정했고, 마지막층인 output layer의 activation은 이 과제가 생존여부(0, 1)을 classification 하는 것이기 때문에 sigmoid로 설정했다.  \n",
    "optimizer는 adam, loss function은 이진분류에 좋은 성능을 보이는 binary_crossentropy로 설정했다."
   ]
  },
  {
   "cell_type": "code",
   "execution_count": 12,
   "metadata": {},
   "outputs": [],
   "source": [
    "def FCN(input_size = (6,)): #인풋 사이즈 설정\n",
    "    inputs = Input(input_size)\n",
    "    \n",
    "    dense1 = Dense(10, activation='relu')(inputs)\n",
    "    dense2 = Dense(5, activation='relu')(dense1)\n",
    "    dense3 = Dense(3, activation='relu')(dense2)\n",
    "    \n",
    "    outputs = Dense(2, activation='sigmoid')(dense3)\n",
    "    \n",
    "    model = Model(input = inputs, output = outputs)\n",
    "    model.compile(optimizer='adam',loss='binary_crossentropy',metrics=['acc'])\n",
    "    \n",
    "    return model"
   ]
  },
  {
   "cell_type": "code",
   "execution_count": 13,
   "metadata": {},
   "outputs": [
    {
     "name": "stdout",
     "output_type": "stream",
     "text": [
      "Model: \"model_2\"\n",
      "_________________________________________________________________\n",
      "Layer (type)                 Output Shape              Param #   \n",
      "=================================================================\n",
      "input_2 (InputLayer)         (None, 6)                 0         \n",
      "_________________________________________________________________\n",
      "dense_5 (Dense)              (None, 10)                70        \n",
      "_________________________________________________________________\n",
      "dense_6 (Dense)              (None, 5)                 55        \n",
      "_________________________________________________________________\n",
      "dense_7 (Dense)              (None, 3)                 18        \n",
      "_________________________________________________________________\n",
      "dense_8 (Dense)              (None, 2)                 8         \n",
      "=================================================================\n",
      "Total params: 151\n",
      "Trainable params: 151\n",
      "Non-trainable params: 0\n",
      "_________________________________________________________________\n"
     ]
    },
    {
     "name": "stderr",
     "output_type": "stream",
     "text": [
      "C:\\Users\\User\\anaconda3\\lib\\site-packages\\ipykernel_launcher.py:10: UserWarning: Update your `Model` call to the Keras 2 API: `Model(inputs=Tensor(\"in..., outputs=Tensor(\"de...)`\n",
      "  # Remove the CWD from sys.path while we load stuff.\n"
     ]
    }
   ],
   "source": [
    "FCN_model = FCN()\n",
    "FCN_model.summary()"
   ]
  },
  {
   "cell_type": "markdown",
   "metadata": {},
   "source": [
    "### Model hyperparmeter 설정하기"
   ]
  },
  {
   "cell_type": "markdown",
   "metadata": {},
   "source": [
    "10 epoch 마다 model을 저장한다.  \n",
    "저장된 모델은 나중에 다시 꺼내서 쓸 수도 있고, model test에도 사용될 것이다."
   ]
  },
  {
   "cell_type": "code",
   "execution_count": 14,
   "metadata": {},
   "outputs": [],
   "source": [
    "save_path = 'D:\\ML_final_project\\model' #model을 저장할 폴더 경로\n",
    "num_batch = 16\n",
    "num_epoch = 100\n",
    "num_period = 10 #model을 저장하는 간격"
   ]
  },
  {
   "cell_type": "code",
   "execution_count": 15,
   "metadata": {},
   "outputs": [],
   "source": [
    "checkpointer = ModelCheckpoint(save_path + '/' + 'm0706_' + '{epoch:04d}.hdf5',\n",
    "                               monitor='val_loss',\n",
    "                               period=num_period)"
   ]
  },
  {
   "cell_type": "markdown",
   "metadata": {},
   "source": [
    "#### 아래 셀은 이번 project에는 사용하지 않겠다."
   ]
  },
  {
   "cell_type": "code",
   "execution_count": 16,
   "metadata": {},
   "outputs": [],
   "source": [
    "# early_stopping = EarlyStopping(monitor='val_loss',\n",
    "#                                patience=10,\n",
    "#                                mode='min')"
   ]
  },
  {
   "cell_type": "markdown",
   "metadata": {},
   "source": [
    "### Model training 하기"
   ]
  },
  {
   "cell_type": "code",
   "execution_count": 17,
   "metadata": {},
   "outputs": [
    {
     "name": "stdout",
     "output_type": "stream",
     "text": [
      "WARNING:tensorflow:From C:\\Users\\User\\anaconda3\\lib\\site-packages\\keras\\backend\\tensorflow_backend.py:422: The name tf.global_variables is deprecated. Please use tf.compat.v1.global_variables instead.\n",
      "\n",
      "Train on 720 samples, validate on 81 samples\n",
      "Epoch 1/100\n",
      "720/720 [==============================] - 0s 242us/step - loss: 0.7274 - acc: 0.6208 - val_loss: 0.7032 - val_acc: 0.5926\n",
      "Epoch 2/100\n",
      "720/720 [==============================] - 0s 45us/step - loss: 0.6766 - acc: 0.6208 - val_loss: 0.6743 - val_acc: 0.5926\n",
      "Epoch 3/100\n",
      "720/720 [==============================] - 0s 43us/step - loss: 0.6527 - acc: 0.6208 - val_loss: 0.6560 - val_acc: 0.5926\n",
      "Epoch 4/100\n",
      "720/720 [==============================] - 0s 44us/step - loss: 0.6345 - acc: 0.6222 - val_loss: 0.6411 - val_acc: 0.6049\n",
      "Epoch 5/100\n",
      "720/720 [==============================] - 0s 42us/step - loss: 0.6179 - acc: 0.6375 - val_loss: 0.6273 - val_acc: 0.6049\n",
      "Epoch 6/100\n",
      "720/720 [==============================] - 0s 44us/step - loss: 0.6027 - acc: 0.6507 - val_loss: 0.6147 - val_acc: 0.6235\n",
      "Epoch 7/100\n",
      "720/720 [==============================] - 0s 48us/step - loss: 0.5900 - acc: 0.6812 - val_loss: 0.6074 - val_acc: 0.6481\n",
      "Epoch 8/100\n",
      "720/720 [==============================] - 0s 46us/step - loss: 0.5798 - acc: 0.6938 - val_loss: 0.5991 - val_acc: 0.6605\n",
      "Epoch 9/100\n",
      "720/720 [==============================] - 0s 46us/step - loss: 0.5707 - acc: 0.7118 - val_loss: 0.5889 - val_acc: 0.6667\n",
      "Epoch 10/100\n",
      "720/720 [==============================] - 0s 44us/step - loss: 0.5637 - acc: 0.7188 - val_loss: 0.5838 - val_acc: 0.6667\n",
      "Epoch 11/100\n",
      "720/720 [==============================] - 0s 44us/step - loss: 0.5573 - acc: 0.7236 - val_loss: 0.5745 - val_acc: 0.6790\n",
      "Epoch 12/100\n",
      "720/720 [==============================] - 0s 44us/step - loss: 0.5513 - acc: 0.7382 - val_loss: 0.5696 - val_acc: 0.6790\n",
      "Epoch 13/100\n",
      "720/720 [==============================] - 0s 44us/step - loss: 0.5452 - acc: 0.7465 - val_loss: 0.5616 - val_acc: 0.6914\n",
      "Epoch 14/100\n",
      "720/720 [==============================] - 0s 46us/step - loss: 0.5402 - acc: 0.7507 - val_loss: 0.5546 - val_acc: 0.6975\n",
      "Epoch 15/100\n",
      "720/720 [==============================] - 0s 44us/step - loss: 0.5359 - acc: 0.7542 - val_loss: 0.5467 - val_acc: 0.7099\n",
      "Epoch 16/100\n",
      "720/720 [==============================] - 0s 44us/step - loss: 0.5310 - acc: 0.7590 - val_loss: 0.5434 - val_acc: 0.7037\n",
      "Epoch 17/100\n",
      "720/720 [==============================] - 0s 44us/step - loss: 0.5277 - acc: 0.7590 - val_loss: 0.5369 - val_acc: 0.7037\n",
      "Epoch 18/100\n",
      "720/720 [==============================] - 0s 44us/step - loss: 0.5243 - acc: 0.7549 - val_loss: 0.5300 - val_acc: 0.7037\n",
      "Epoch 19/100\n",
      "720/720 [==============================] - 0s 46us/step - loss: 0.5214 - acc: 0.7736 - val_loss: 0.5267 - val_acc: 0.7099\n",
      "Epoch 20/100\n",
      "720/720 [==============================] - 0s 46us/step - loss: 0.5188 - acc: 0.7722 - val_loss: 0.5216 - val_acc: 0.6975\n",
      "Epoch 21/100\n",
      "720/720 [==============================] - 0s 44us/step - loss: 0.5164 - acc: 0.7792 - val_loss: 0.5201 - val_acc: 0.7160\n",
      "Epoch 22/100\n",
      "720/720 [==============================] - 0s 44us/step - loss: 0.5147 - acc: 0.7743 - val_loss: 0.5136 - val_acc: 0.7222\n",
      "Epoch 23/100\n",
      "720/720 [==============================] - 0s 46us/step - loss: 0.5103 - acc: 0.7861 - val_loss: 0.5118 - val_acc: 0.7222\n",
      "Epoch 24/100\n",
      "720/720 [==============================] - 0s 44us/step - loss: 0.5090 - acc: 0.7847 - val_loss: 0.5071 - val_acc: 0.7346\n",
      "Epoch 25/100\n",
      "720/720 [==============================] - 0s 46us/step - loss: 0.5067 - acc: 0.7896 - val_loss: 0.5053 - val_acc: 0.7346\n",
      "Epoch 26/100\n",
      "720/720 [==============================] - 0s 44us/step - loss: 0.5052 - acc: 0.7910 - val_loss: 0.5029 - val_acc: 0.7716\n",
      "Epoch 27/100\n",
      "720/720 [==============================] - 0s 44us/step - loss: 0.5028 - acc: 0.7903 - val_loss: 0.5037 - val_acc: 0.7778\n",
      "Epoch 28/100\n",
      "720/720 [==============================] - 0s 44us/step - loss: 0.5019 - acc: 0.7972 - val_loss: 0.5002 - val_acc: 0.7716\n",
      "Epoch 29/100\n",
      "720/720 [==============================] - 0s 44us/step - loss: 0.5007 - acc: 0.7882 - val_loss: 0.4991 - val_acc: 0.7840\n",
      "Epoch 30/100\n",
      "720/720 [==============================] - 0s 44us/step - loss: 0.4987 - acc: 0.7833 - val_loss: 0.4978 - val_acc: 0.8025\n",
      "Epoch 31/100\n",
      "720/720 [==============================] - 0s 46us/step - loss: 0.4970 - acc: 0.7910 - val_loss: 0.4956 - val_acc: 0.8025\n",
      "Epoch 32/100\n",
      "720/720 [==============================] - 0s 44us/step - loss: 0.4962 - acc: 0.7896 - val_loss: 0.4953 - val_acc: 0.8086\n",
      "Epoch 33/100\n",
      "720/720 [==============================] - 0s 47us/step - loss: 0.4960 - acc: 0.7917 - val_loss: 0.4985 - val_acc: 0.7654\n",
      "Epoch 34/100\n",
      "720/720 [==============================] - 0s 46us/step - loss: 0.4944 - acc: 0.7875 - val_loss: 0.4930 - val_acc: 0.7716\n",
      "Epoch 35/100\n",
      "720/720 [==============================] - 0s 46us/step - loss: 0.4929 - acc: 0.7868 - val_loss: 0.4924 - val_acc: 0.7963\n",
      "Epoch 36/100\n",
      "720/720 [==============================] - 0s 44us/step - loss: 0.4914 - acc: 0.7896 - val_loss: 0.4901 - val_acc: 0.7901\n",
      "Epoch 37/100\n",
      "720/720 [==============================] - 0s 47us/step - loss: 0.4899 - acc: 0.7896 - val_loss: 0.4899 - val_acc: 0.7963\n",
      "Epoch 38/100\n",
      "720/720 [==============================] - 0s 48us/step - loss: 0.4883 - acc: 0.7951 - val_loss: 0.4884 - val_acc: 0.7778\n",
      "Epoch 39/100\n",
      "720/720 [==============================] - 0s 44us/step - loss: 0.4872 - acc: 0.7903 - val_loss: 0.4895 - val_acc: 0.7963\n",
      "Epoch 40/100\n",
      "720/720 [==============================] - 0s 46us/step - loss: 0.4861 - acc: 0.7951 - val_loss: 0.4878 - val_acc: 0.7963\n",
      "Epoch 41/100\n",
      "720/720 [==============================] - 0s 65us/step - loss: 0.4844 - acc: 0.7951 - val_loss: 0.4882 - val_acc: 0.7963\n",
      "Epoch 42/100\n",
      "720/720 [==============================] - 0s 53us/step - loss: 0.4836 - acc: 0.7958 - val_loss: 0.4871 - val_acc: 0.7963\n",
      "Epoch 43/100\n",
      "720/720 [==============================] - 0s 51us/step - loss: 0.4824 - acc: 0.7958 - val_loss: 0.4850 - val_acc: 0.7963\n",
      "Epoch 44/100\n",
      "720/720 [==============================] - 0s 51us/step - loss: 0.4817 - acc: 0.7917 - val_loss: 0.4865 - val_acc: 0.7963\n",
      "Epoch 45/100\n",
      "720/720 [==============================] - 0s 44us/step - loss: 0.4815 - acc: 0.8000 - val_loss: 0.4850 - val_acc: 0.7963\n",
      "Epoch 46/100\n",
      "720/720 [==============================] - 0s 43us/step - loss: 0.4807 - acc: 0.7910 - val_loss: 0.4844 - val_acc: 0.8025\n",
      "Epoch 47/100\n",
      "720/720 [==============================] - 0s 43us/step - loss: 0.4798 - acc: 0.7951 - val_loss: 0.4835 - val_acc: 0.7901\n",
      "Epoch 48/100\n",
      "720/720 [==============================] - 0s 43us/step - loss: 0.4796 - acc: 0.7937 - val_loss: 0.4828 - val_acc: 0.7901\n",
      "Epoch 49/100\n",
      "720/720 [==============================] - 0s 42us/step - loss: 0.4785 - acc: 0.7979 - val_loss: 0.4841 - val_acc: 0.7963\n",
      "Epoch 50/100\n",
      "720/720 [==============================] - 0s 44us/step - loss: 0.4774 - acc: 0.7972 - val_loss: 0.4810 - val_acc: 0.7716\n",
      "Epoch 51/100\n",
      "720/720 [==============================] - 0s 46us/step - loss: 0.4775 - acc: 0.7958 - val_loss: 0.4871 - val_acc: 0.8210\n",
      "Epoch 52/100\n",
      "720/720 [==============================] - 0s 44us/step - loss: 0.4771 - acc: 0.7958 - val_loss: 0.4824 - val_acc: 0.7901\n",
      "Epoch 53/100\n",
      "720/720 [==============================] - 0s 46us/step - loss: 0.4762 - acc: 0.7965 - val_loss: 0.4826 - val_acc: 0.7840\n",
      "Epoch 54/100\n",
      "720/720 [==============================] - 0s 44us/step - loss: 0.4758 - acc: 0.7896 - val_loss: 0.4827 - val_acc: 0.7840\n",
      "Epoch 55/100\n",
      "720/720 [==============================] - 0s 46us/step - loss: 0.4755 - acc: 0.7924 - val_loss: 0.4815 - val_acc: 0.7716\n",
      "Epoch 56/100\n",
      "720/720 [==============================] - 0s 43us/step - loss: 0.4747 - acc: 0.7944 - val_loss: 0.4878 - val_acc: 0.8210\n",
      "Epoch 57/100\n",
      "720/720 [==============================] - 0s 43us/step - loss: 0.4740 - acc: 0.7951 - val_loss: 0.4801 - val_acc: 0.7654\n",
      "Epoch 58/100\n",
      "720/720 [==============================] - 0s 46us/step - loss: 0.4723 - acc: 0.7958 - val_loss: 0.4840 - val_acc: 0.8086\n",
      "Epoch 59/100\n",
      "720/720 [==============================] - 0s 44us/step - loss: 0.4722 - acc: 0.7917 - val_loss: 0.4876 - val_acc: 0.8210\n"
     ]
    },
    {
     "name": "stdout",
     "output_type": "stream",
     "text": [
      "Epoch 60/100\n",
      "720/720 [==============================] - 0s 44us/step - loss: 0.4713 - acc: 0.8000 - val_loss: 0.4856 - val_acc: 0.8086\n",
      "Epoch 61/100\n",
      "720/720 [==============================] - 0s 46us/step - loss: 0.4705 - acc: 0.8021 - val_loss: 0.4824 - val_acc: 0.7716\n",
      "Epoch 62/100\n",
      "720/720 [==============================] - 0s 42us/step - loss: 0.4712 - acc: 0.7937 - val_loss: 0.4862 - val_acc: 0.8086\n",
      "Epoch 63/100\n",
      "720/720 [==============================] - 0s 43us/step - loss: 0.4705 - acc: 0.7965 - val_loss: 0.4880 - val_acc: 0.8148\n",
      "Epoch 64/100\n",
      "720/720 [==============================] - 0s 43us/step - loss: 0.4699 - acc: 0.7979 - val_loss: 0.4849 - val_acc: 0.8086\n",
      "Epoch 65/100\n",
      "720/720 [==============================] - 0s 46us/step - loss: 0.4695 - acc: 0.8014 - val_loss: 0.4846 - val_acc: 0.7963\n",
      "Epoch 66/100\n",
      "720/720 [==============================] - 0s 43us/step - loss: 0.4689 - acc: 0.8021 - val_loss: 0.4847 - val_acc: 0.8025\n",
      "Epoch 67/100\n",
      "720/720 [==============================] - 0s 44us/step - loss: 0.4690 - acc: 0.8000 - val_loss: 0.4873 - val_acc: 0.8086\n",
      "Epoch 68/100\n",
      "720/720 [==============================] - 0s 46us/step - loss: 0.4669 - acc: 0.8042 - val_loss: 0.4835 - val_acc: 0.7778\n",
      "Epoch 69/100\n",
      "720/720 [==============================] - 0s 44us/step - loss: 0.4669 - acc: 0.8021 - val_loss: 0.4849 - val_acc: 0.7778\n",
      "Epoch 70/100\n",
      "720/720 [==============================] - 0s 44us/step - loss: 0.4662 - acc: 0.8028 - val_loss: 0.4873 - val_acc: 0.8148\n",
      "Epoch 71/100\n",
      "720/720 [==============================] - 0s 44us/step - loss: 0.4657 - acc: 0.8083 - val_loss: 0.4846 - val_acc: 0.7901\n",
      "Epoch 72/100\n",
      "720/720 [==============================] - 0s 44us/step - loss: 0.4650 - acc: 0.7965 - val_loss: 0.4862 - val_acc: 0.8086\n",
      "Epoch 73/100\n",
      "720/720 [==============================] - 0s 44us/step - loss: 0.4652 - acc: 0.8007 - val_loss: 0.4859 - val_acc: 0.7901\n",
      "Epoch 74/100\n",
      "720/720 [==============================] - 0s 43us/step - loss: 0.4641 - acc: 0.8021 - val_loss: 0.4874 - val_acc: 0.8148\n",
      "Epoch 75/100\n",
      "720/720 [==============================] - 0s 44us/step - loss: 0.4638 - acc: 0.8035 - val_loss: 0.4865 - val_acc: 0.8148\n",
      "Epoch 76/100\n",
      "720/720 [==============================] - 0s 46us/step - loss: 0.4636 - acc: 0.8035 - val_loss: 0.4857 - val_acc: 0.7963\n",
      "Epoch 77/100\n",
      "720/720 [==============================] - 0s 43us/step - loss: 0.4637 - acc: 0.7944 - val_loss: 0.4876 - val_acc: 0.8148\n",
      "Epoch 78/100\n",
      "720/720 [==============================] - 0s 44us/step - loss: 0.4627 - acc: 0.8049 - val_loss: 0.4863 - val_acc: 0.8148\n",
      "Epoch 79/100\n",
      "720/720 [==============================] - 0s 47us/step - loss: 0.4623 - acc: 0.7993 - val_loss: 0.4898 - val_acc: 0.8272\n",
      "Epoch 80/100\n",
      "720/720 [==============================] - 0s 43us/step - loss: 0.4634 - acc: 0.8035 - val_loss: 0.4872 - val_acc: 0.8148\n",
      "Epoch 81/100\n",
      "720/720 [==============================] - 0s 43us/step - loss: 0.4635 - acc: 0.8049 - val_loss: 0.4904 - val_acc: 0.8272\n",
      "Epoch 82/100\n",
      "720/720 [==============================] - 0s 44us/step - loss: 0.4617 - acc: 0.8042 - val_loss: 0.4860 - val_acc: 0.8025\n",
      "Epoch 83/100\n",
      "720/720 [==============================] - 0s 44us/step - loss: 0.4610 - acc: 0.8062 - val_loss: 0.4861 - val_acc: 0.8148\n",
      "Epoch 84/100\n",
      "720/720 [==============================] - 0s 46us/step - loss: 0.4618 - acc: 0.8007 - val_loss: 0.4865 - val_acc: 0.8148\n",
      "Epoch 85/100\n",
      "720/720 [==============================] - 0s 51us/step - loss: 0.4605 - acc: 0.8069 - val_loss: 0.4830 - val_acc: 0.7778\n",
      "Epoch 86/100\n",
      "720/720 [==============================] - 0s 44us/step - loss: 0.4607 - acc: 0.7924 - val_loss: 0.4885 - val_acc: 0.8210\n",
      "Epoch 87/100\n",
      "720/720 [==============================] - 0s 44us/step - loss: 0.4601 - acc: 0.8083 - val_loss: 0.4842 - val_acc: 0.7840\n",
      "Epoch 88/100\n",
      "720/720 [==============================] - 0s 43us/step - loss: 0.4611 - acc: 0.7951 - val_loss: 0.4848 - val_acc: 0.7901\n",
      "Epoch 89/100\n",
      "720/720 [==============================] - 0s 44us/step - loss: 0.4608 - acc: 0.8056 - val_loss: 0.4840 - val_acc: 0.7963\n",
      "Epoch 90/100\n",
      "720/720 [==============================] - 0s 44us/step - loss: 0.4598 - acc: 0.8056 - val_loss: 0.4823 - val_acc: 0.7840\n",
      "Epoch 91/100\n",
      "720/720 [==============================] - 0s 44us/step - loss: 0.4588 - acc: 0.7951 - val_loss: 0.4852 - val_acc: 0.8025\n",
      "Epoch 92/100\n",
      "720/720 [==============================] - 0s 43us/step - loss: 0.4594 - acc: 0.8021 - val_loss: 0.4849 - val_acc: 0.8086\n",
      "Epoch 93/100\n",
      "720/720 [==============================] - 0s 48us/step - loss: 0.4594 - acc: 0.8056 - val_loss: 0.4928 - val_acc: 0.8272\n",
      "Epoch 94/100\n",
      "720/720 [==============================] - 0s 44us/step - loss: 0.4627 - acc: 0.8035 - val_loss: 0.4897 - val_acc: 0.8272\n",
      "Epoch 95/100\n",
      "720/720 [==============================] - 0s 43us/step - loss: 0.4592 - acc: 0.8062 - val_loss: 0.4824 - val_acc: 0.7901\n",
      "Epoch 96/100\n",
      "720/720 [==============================] - 0s 43us/step - loss: 0.4576 - acc: 0.8049 - val_loss: 0.4862 - val_acc: 0.8210\n",
      "Epoch 97/100\n",
      "720/720 [==============================] - 0s 47us/step - loss: 0.4587 - acc: 0.8007 - val_loss: 0.4892 - val_acc: 0.8272\n",
      "Epoch 98/100\n",
      "720/720 [==============================] - 0s 44us/step - loss: 0.4587 - acc: 0.8076 - val_loss: 0.4837 - val_acc: 0.7963\n",
      "Epoch 99/100\n",
      "720/720 [==============================] - 0s 43us/step - loss: 0.4569 - acc: 0.7979 - val_loss: 0.4835 - val_acc: 0.7901\n",
      "Epoch 100/100\n",
      "720/720 [==============================] - 0s 44us/step - loss: 0.4562 - acc: 0.8021 - val_loss: 0.4826 - val_acc: 0.7901\n"
     ]
    }
   ],
   "source": [
    "FCN_histories = list()\n",
    "\n",
    "FCN_history = FCN_model.fit(X_train, y_train,\n",
    "                            validation_data=(X_val,y_val),\n",
    "                            batch_size=num_batch,\n",
    "                            epochs=num_epoch,\n",
    "                            shuffle=True,\n",
    "                            callbacks=[checkpointer])\n",
    "\n",
    "FCN_histories.append(FCN_history)"
   ]
  },
  {
   "cell_type": "markdown",
   "metadata": {},
   "source": [
    "### Learning graph 나타내기"
   ]
  },
  {
   "cell_type": "code",
   "execution_count": 18,
   "metadata": {},
   "outputs": [
    {
     "data": {
      "image/png": "[encoded data removed]",
      "text/plain": [
       "<Figure size 1080x360 with 2 Axes>"
      ]
     },
     "metadata": {
      "needs_background": "light"
     },
     "output_type": "display_data"
    }
   ],
   "source": [
    "for idx, history in enumerate(FCN_histories):\n",
    "    plot_learning_curve(history)"
   ]
  },
  {
   "cell_type": "markdown",
   "metadata": {},
   "source": [
    "### Model test 하기"
   ]
  },
  {
   "cell_type": "code",
   "execution_count": 19,
   "metadata": {},
   "outputs": [],
   "source": [
    "model_path = r'D:\\ML_final_project\\model\\m0706_0100.hdf5'\n",
    "model = load_model(model_path)"
   ]
  },
  {
   "cell_type": "code",
   "execution_count": 32,
   "metadata": {},
   "outputs": [
    {
     "name": "stdout",
     "output_type": "stream",
     "text": [
      "y_true = [1 0 0 1 1 1 1 0 1 1 0 0 0 0 0 1 1 1 0 0 0 1 1 0 0 0 0 1 0 0 0 1 0 0 1 0 1\n",
      " 1 1 0 0 0 0 0 0 0 0 0 0 0 1 1 0 1 0 1 0 1 1 1 0 1 1 0 0 0 0 0 0 1 0 1 1 1\n",
      " 0 0 0 1 0 0 0 1 1 0 0 0 1 1 0 0]\n",
      "y_pred = [0 0 0 1 1 1 1 0 1 1 0 0 0 0 0 1 0 1 0 0 0 0 1 0 0 0 0 0 0 1 0 1 0 1 0 0 0\n",
      " 1 1 0 0 0 0 0 1 0 0 0 0 0 1 1 0 1 0 1 0 1 1 1 0 1 1 1 0 1 0 0 0 1 1 1 1 1\n",
      " 0 0 1 1 1 0 0 1 1 0 0 0 1 1 0 0]\n",
      "--------------------------------------------------\n",
      "<confusion_mat>\n"
     ]
    },
    {
     "data": {
      "text/plain": [
       "array([[46,  8],\n",
       "       [ 6, 30]], dtype=int64)"
      ]
     },
     "execution_count": 32,
     "metadata": {},
     "output_type": "execute_result"
    }
   ],
   "source": [
    "y_label = np.argmax(y_test, 1)\n",
    "y_fit = np.argmax(model.predict(X_test), 1)\n",
    "confusion_mat = confusion_matrix(y_label, y_fit)\n",
    "\n",
    "print('y_true =', y_label)\n",
    "print('y_pred =', y_fit)\n",
    "print('-' * 50)\n",
    "print('<confusion_mat>')\n",
    "confusion_mat"
   ]
  },
  {
   "cell_type": "code",
   "execution_count": 33,
   "metadata": {},
   "outputs": [
    {
     "name": "stdout",
     "output_type": "stream",
     "text": [
      "accuracy  : 0.8444444444444444\n",
      "recall    : [0.85185185 0.83333333]\n",
      "precision : [0.88461538 0.78947368]\n",
      "fscore    : [0.86792453 0.81081081]\n",
      "support   : [54 36]\n"
     ]
    }
   ],
   "source": [
    "precision, recall, fscore, support = score(y_label, y_fit)\n",
    "accuracy = accuracy_score(y_label,y_fit)\n",
    "\n",
    "print('accuracy  :', accuracy)\n",
    "print('recall    :', recall)\n",
    "print('precision :', precision)\n",
    "print('fscore    :', fscore)\n",
    "print('support   :', support)"
   ]
  },
  {
   "cell_type": "markdown",
   "metadata": {},
   "source": [
    "---\n",
    "## training에 사용되지 않은 data로 model inference 하기"
   ]
  },
  {
   "cell_type": "markdown",
   "metadata": {},
   "source": [
    "kaggle 홈페이지에서 제공한 gender_submission이라는 csv파일을 갖고 model을 inference 해보겠다."
   ]
  },
  {
   "cell_type": "code",
   "execution_count": 34,
   "metadata": {},
   "outputs": [],
   "source": [
    "y_real_test = pd.read_csv('D:\\ML_final_project\\data\\gender_submission.csv')"
   ]
  },
  {
   "cell_type": "code",
   "execution_count": 35,
   "metadata": {},
   "outputs": [
    {
     "data": {
      "text/html": [
       "<div>\n",
       "<style scoped>\n",
       "    .dataframe tbody tr th:only-of-type {\n",
       "        vertical-align: middle;\n",
       "    }\n",
       "\n",
       "    .dataframe tbody tr th {\n",
       "        vertical-align: top;\n",
       "    }\n",
       "\n",
       "    .dataframe thead th {\n",
       "        text-align: right;\n",
       "    }\n",
       "</style>\n",
       "<table border=\"1\" class=\"dataframe\">\n",
       "  <thead>\n",
       "    <tr style=\"text-align: right;\">\n",
       "      <th></th>\n",
       "      <th>PassengerId</th>\n",
       "      <th>Survived</th>\n",
       "    </tr>\n",
       "  </thead>\n",
       "  <tbody>\n",
       "    <tr>\n",
       "      <th>0</th>\n",
       "      <td>892</td>\n",
       "      <td>0</td>\n",
       "    </tr>\n",
       "    <tr>\n",
       "      <th>1</th>\n",
       "      <td>893</td>\n",
       "      <td>1</td>\n",
       "    </tr>\n",
       "    <tr>\n",
       "      <th>2</th>\n",
       "      <td>894</td>\n",
       "      <td>0</td>\n",
       "    </tr>\n",
       "    <tr>\n",
       "      <th>3</th>\n",
       "      <td>895</td>\n",
       "      <td>0</td>\n",
       "    </tr>\n",
       "    <tr>\n",
       "      <th>4</th>\n",
       "      <td>896</td>\n",
       "      <td>1</td>\n",
       "    </tr>\n",
       "    <tr>\n",
       "      <th>5</th>\n",
       "      <td>897</td>\n",
       "      <td>0</td>\n",
       "    </tr>\n",
       "    <tr>\n",
       "      <th>6</th>\n",
       "      <td>898</td>\n",
       "      <td>1</td>\n",
       "    </tr>\n",
       "    <tr>\n",
       "      <th>7</th>\n",
       "      <td>899</td>\n",
       "      <td>0</td>\n",
       "    </tr>\n",
       "    <tr>\n",
       "      <th>8</th>\n",
       "      <td>900</td>\n",
       "      <td>1</td>\n",
       "    </tr>\n",
       "    <tr>\n",
       "      <th>9</th>\n",
       "      <td>901</td>\n",
       "      <td>0</td>\n",
       "    </tr>\n",
       "  </tbody>\n",
       "</table>\n",
       "</div>"
      ],
      "text/plain": [
       "   PassengerId  Survived\n",
       "0          892         0\n",
       "1          893         1\n",
       "2          894         0\n",
       "3          895         0\n",
       "4          896         1\n",
       "5          897         0\n",
       "6          898         1\n",
       "7          899         0\n",
       "8          900         1\n",
       "9          901         0"
      ]
     },
     "execution_count": 35,
     "metadata": {},
     "output_type": "execute_result"
    }
   ],
   "source": [
    "y_real_test.head(10)"
   ]
  },
  {
   "cell_type": "code",
   "execution_count": 36,
   "metadata": {},
   "outputs": [
    {
     "name": "stdout",
     "output_type": "stream",
     "text": [
      "y_true = [0 1 0 0 1 0 1 0 1 0 0 0 1 0 1 1 0 0 1 1 0 0 1 0 1 0 1 0 0 0 0 0 1 1 0 0 1\n",
      " 1 0 0 0 0 0 1 1 0 0 0 1 1 0 0 1 1 0 0 0 0 0 1 0 0 0 1 0 1 1 0 0 1 1 0 1 0\n",
      " 1 0 0 1 0 1 0 0 0 0 0 0 1 1 1 0 1 0 1 0 0 0 1 0 1 0 1 0 0 0 1 0 0 0 0 0 0\n",
      " 1 1 1 1 0 0 1 0 1 1 0 1 0 0 1 0 1 0 0 0 0 1 0 0 0 0 0 1 0 1 1 0 0 0 0 0 0\n",
      " 0 0 1 0 0 1 0 0 1 1 0 1 1 0 1 0 0 1 0 0 1 1 0 0 0 0 0 1 1 0 1 1 0 0 1 0 1\n",
      " 0 1 0 1 0 0 0 0 0 0 0 0 1 0 1 1 0 0 1 0 0 1 0 1 0 0 0 0 1 1 0 1 0 1 0 1 0\n",
      " 1 0 1 1 0 1 0 0 0 1 0 0 0 0 0 0 1 1 1 1 0 0 0 0 1 0 1 1 1 0 0 0 0 0 0 0 1\n",
      " 0 0 0 1 1 0 0 0 0 1 0 0 0 1 1 0 1 0 0 0 0 1 0 1 1 1 0 0 0 0 0 0 1 0 0 0 0\n",
      " 1 0 0 0 0 0 0 0 1 1 0 0 0 1 0 0 0 1 1 1 0 0 0 0 0 0 0 0 1 0 1 0 0 0 1 0 0\n",
      " 1 0 0 0 0 0 0 0 0 0 1 0 1 0 1 0 1 1 0 0 0 1 0 1 0 0 1 0 1 1 0 1 1 0 1 1 0\n",
      " 0 1 0 0 1 1 1 0 0 0 0 0 1 1 0 1 0 0 0 0 0 1 0 0 0 1 0 1 0 0 1 0 1 0 0 0 0\n",
      " 0 1 1 1 1 1 0 1 0 0 0]\n",
      "y_pred = [0 1 0 0 1 0 1 0 1 0 0 1 1 0 1 1 0 0 1 1 0 0 1 0 1 0 1 0 1 0 0 0 1 1 0 0 1\n",
      " 1 0 0 0 1 0 1 1 0 1 0 1 1 1 0 1 1 0 0 0 0 0 1 0 0 0 1 0 1 1 1 1 1 1 0 1 1\n",
      " 1 0 0 1 0 1 0 1 1 0 0 0 1 1 1 0 1 0 1 0 1 0 1 0 1 0 1 0 0 0 1 0 0 0 0 0 0\n",
      " 1 1 1 1 0 0 1 0 1 1 0 1 0 0 1 0 1 0 0 0 1 1 0 0 0 0 0 1 0 0 1 0 0 1 0 1 0\n",
      " 1 0 1 0 0 1 0 0 1 1 1 1 1 0 1 0 0 1 0 0 1 1 0 0 0 0 0 1 1 0 1 1 0 1 1 0 1\n",
      " 0 1 0 0 0 0 1 0 0 0 0 0 1 0 1 1 0 0 1 0 1 1 0 1 0 0 0 0 1 0 1 1 1 1 0 1 0\n",
      " 1 0 1 1 0 1 0 0 0 1 0 0 0 0 0 0 1 1 1 1 0 0 0 1 1 0 1 1 1 0 0 0 0 0 0 0 1\n",
      " 0 0 0 1 1 0 0 1 0 1 0 0 0 1 1 0 1 0 0 0 0 1 0 1 1 1 0 0 1 0 0 1 1 0 1 0 0\n",
      " 1 0 1 0 0 0 0 0 1 1 1 0 1 1 0 0 0 1 1 1 0 0 0 0 0 0 0 1 1 0 1 0 0 0 1 1 0\n",
      " 1 0 1 0 0 0 0 0 0 0 1 0 1 0 1 0 1 1 0 0 0 1 1 1 0 0 1 0 1 1 0 1 0 0 1 1 0\n",
      " 0 1 1 0 1 1 1 0 1 0 0 0 1 1 0 1 0 0 0 0 1 1 0 0 0 1 0 1 0 0 1 0 1 1 1 0 0\n",
      " 0 1 1 1 1 1 0 1 0 0 0]\n",
      "--------------------------------------------------\n",
      "<confusion_mat>\n"
     ]
    },
    {
     "data": {
      "text/plain": [
       "array([[228,  38],\n",
       "       [  4, 148]], dtype=int64)"
      ]
     },
     "execution_count": 36,
     "metadata": {},
     "output_type": "execute_result"
    }
   ],
   "source": [
    "y_real_label_one_hot = to_categorical(y_real_test['Survived'])\n",
    "y_real_label = np.argmax(y_real_label_one_hot, 1)\n",
    "y_real_fit = np.argmax(model.predict(X_real_test), 1)\n",
    "confusion_mat = confusion_matrix(y_real_label, y_real_fit)\n",
    "\n",
    "print('y_true =', y_real_label)\n",
    "print('y_pred =', y_real_fit)\n",
    "print('-' * 50)\n",
    "print('<confusion_mat>')\n",
    "confusion_mat"
   ]
  },
  {
   "cell_type": "markdown",
   "metadata": {},
   "source": [
    "지난 7월4일 model 구축 project에서 아래 셀을 실행할 때 restart를 하지 않아 이전 accuracy 변수가 남아있어 잘못된 accuracy가 출력이 되었다. 코드를 수정하면서 착오가 있었던 것 같다. 저번 model을 저장해두었기 때문에 다시 불러와서 model을 inference해보겠다. 일단 아래는 이번 project의 결과이다."
   ]
  },
  {
   "cell_type": "code",
   "execution_count": 37,
   "metadata": {},
   "outputs": [
    {
     "name": "stdout",
     "output_type": "stream",
     "text": [
      "accuracy  : 0.8995215311004785\n",
      "recall    : [0.85714286 0.97368421]\n",
      "precision : [0.98275862 0.79569892]\n",
      "fscore    : [0.91566265 0.87573964]\n",
      "support   : [266 152]\n"
     ]
    }
   ],
   "source": [
    "#7/6\n",
    "precision, recall, fscore, support = score(y_real_label, y_real_fit)\n",
    "accuracy = accuracy_score(y_real_label, y_real_fit)\n",
    "\n",
    "print('accuracy  :', accuracy)\n",
    "print('recall    :', recall)\n",
    "print('precision :', precision)\n",
    "print('fscore    :', fscore)\n",
    "print('support   :', support)"
   ]
  },
  {
   "cell_type": "markdown",
   "metadata": {},
   "source": [
    "지난 project의 model이다."
   ]
  },
  {
   "cell_type": "code",
   "execution_count": 29,
   "metadata": {},
   "outputs": [],
   "source": [
    "model_path_0704 = r'D:\\ML_final_project\\model\\m0704\\m0704_0100.hdf5'\n",
    "model_0704 = load_model(model_path_0704)"
   ]
  },
  {
   "cell_type": "code",
   "execution_count": 30,
   "metadata": {
    "scrolled": true
   },
   "outputs": [
    {
     "name": "stdout",
     "output_type": "stream",
     "text": [
      "y_true = [0 1 0 0 1 0 1 0 1 0 0 0 1 0 1 1 0 0 1 1 0 0 1 0 1 0 1 0 0 0 0 0 1 1 0 0 1\n",
      " 1 0 0 0 0 0 1 1 0 0 0 1 1 0 0 1 1 0 0 0 0 0 1 0 0 0 1 0 1 1 0 0 1 1 0 1 0\n",
      " 1 0 0 1 0 1 0 0 0 0 0 0 1 1 1 0 1 0 1 0 0 0 1 0 1 0 1 0 0 0 1 0 0 0 0 0 0\n",
      " 1 1 1 1 0 0 1 0 1 1 0 1 0 0 1 0 1 0 0 0 0 1 0 0 0 0 0 1 0 1 1 0 0 0 0 0 0\n",
      " 0 0 1 0 0 1 0 0 1 1 0 1 1 0 1 0 0 1 0 0 1 1 0 0 0 0 0 1 1 0 1 1 0 0 1 0 1\n",
      " 0 1 0 1 0 0 0 0 0 0 0 0 1 0 1 1 0 0 1 0 0 1 0 1 0 0 0 0 1 1 0 1 0 1 0 1 0\n",
      " 1 0 1 1 0 1 0 0 0 1 0 0 0 0 0 0 1 1 1 1 0 0 0 0 1 0 1 1 1 0 0 0 0 0 0 0 1\n",
      " 0 0 0 1 1 0 0 0 0 1 0 0 0 1 1 0 1 0 0 0 0 1 0 1 1 1 0 0 0 0 0 0 1 0 0 0 0\n",
      " 1 0 0 0 0 0 0 0 1 1 0 0 0 1 0 0 0 1 1 1 0 0 0 0 0 0 0 0 1 0 1 0 0 0 1 0 0\n",
      " 1 0 0 0 0 0 0 0 0 0 1 0 1 0 1 0 1 1 0 0 0 1 0 1 0 0 1 0 1 1 0 1 1 0 1 1 0\n",
      " 0 1 0 0 1 1 1 0 0 0 0 0 1 1 0 1 0 0 0 0 0 1 0 0 0 1 0 1 0 0 1 0 1 0 0 0 0\n",
      " 0 1 1 1 1 1 0 1 0 0 0]\n",
      "y_pred = [0 1 0 0 1 0 1 0 1 0 0 1 1 0 1 1 0 0 1 1 1 0 1 1 1 0 1 0 1 0 0 0 1 1 1 0 1\n",
      " 1 0 0 0 1 0 1 1 0 1 0 1 1 1 0 1 1 0 0 0 0 0 1 0 0 0 1 1 1 1 1 1 1 1 0 1 1\n",
      " 1 1 0 1 0 1 0 1 1 0 0 0 1 1 1 0 1 0 1 0 1 0 1 0 1 0 1 0 0 0 1 0 0 0 0 0 0\n",
      " 1 1 1 1 0 0 1 1 1 1 0 1 0 0 1 0 1 0 0 0 1 0 0 0 0 0 0 1 0 0 1 1 0 1 0 1 0\n",
      " 1 0 1 0 0 1 0 0 1 1 1 1 1 0 1 0 0 1 1 0 1 1 0 0 0 0 0 1 1 1 1 1 0 1 1 0 1\n",
      " 0 1 0 0 0 0 1 0 0 0 0 1 1 0 1 1 0 1 1 0 1 1 0 1 0 0 0 0 1 0 1 1 1 1 0 1 0\n",
      " 1 0 1 1 0 1 0 0 0 1 0 0 1 0 1 0 1 1 1 1 1 0 0 1 1 0 1 1 1 0 1 0 0 0 0 0 1\n",
      " 0 0 0 1 1 0 0 1 0 1 0 1 0 1 1 0 1 0 0 0 0 1 0 1 1 1 0 0 1 0 0 1 1 0 1 0 0\n",
      " 1 0 1 0 0 0 0 0 1 1 1 0 1 1 0 0 0 1 1 1 1 0 0 0 0 0 0 1 1 0 1 1 0 0 1 1 0\n",
      " 1 0 1 0 0 0 0 0 0 0 1 0 1 0 1 0 1 1 0 0 0 1 1 1 0 0 1 0 1 1 0 1 0 0 1 1 0\n",
      " 0 1 1 0 1 1 1 0 1 0 0 0 1 1 0 1 0 0 0 0 1 1 0 0 0 1 0 1 0 0 1 0 1 1 1 0 0\n",
      " 1 1 1 1 1 1 0 1 0 0 0]\n",
      "--------------------------------------------------\n",
      "<confusion_mat>\n"
     ]
    },
    {
     "data": {
      "text/plain": [
       "array([[209,  57],\n",
       "       [  5, 147]], dtype=int64)"
      ]
     },
     "execution_count": 30,
     "metadata": {},
     "output_type": "execute_result"
    }
   ],
   "source": [
    "#7/4\n",
    "y_real_label_one_hot = to_categorical(y_real_test['Survived'])\n",
    "y_real_label = np.argmax(y_real_label_one_hot, 1)\n",
    "y_real_fit = np.argmax(model_0704.predict(X_real_test), 1)\n",
    "confusion_mat = confusion_matrix(y_real_label, y_real_fit)\n",
    "\n",
    "print('y_true =', y_real_label)\n",
    "print('y_pred =', y_real_fit)\n",
    "print('-' * 50)\n",
    "print('<confusion_mat>')\n",
    "confusion_mat"
   ]
  },
  {
   "cell_type": "code",
   "execution_count": 31,
   "metadata": {},
   "outputs": [
    {
     "name": "stdout",
     "output_type": "stream",
     "text": [
      "accuracy  : 0.8516746411483254\n",
      "recall    : [0.78571429 0.96710526]\n",
      "precision : [0.97663551 0.72058824]\n",
      "fscore    : [0.87083333 0.8258427 ]\n",
      "support   : [266 152]\n"
     ]
    }
   ],
   "source": [
    "precision, recall, fscore, support = score(y_real_label, y_real_fit)\n",
    "accuracy = accuracy_score(y_real_label, y_real_fit)\n",
    "\n",
    "print('accuracy  :', accuracy)\n",
    "print('recall    :', recall)\n",
    "print('precision :', precision)\n",
    "print('fscore    :', fscore)\n",
    "print('support   :', support)"
   ]
  },
  {
   "cell_type": "markdown",
   "metadata": {},
   "source": [
    "## Result"
   ]
  },
  {
   "cell_type": "markdown",
   "metadata": {},
   "source": [
    "같은 FCN으로 model을 학습했지만 저번 model의 결과가 이번 결과보다 잘 나온 것은 가중치를 랜덤하게 부여할 때 저번 model이 조금 더 성능이 좋게 설정이 된 것 같다.  \n",
    "7/4 model의 accuracy는 0.851  \n",
    "7/6 model의 accuracy는 0.899  \n",
    "가 나온 것을 확인할 수 있다."
   ]
  },
  {
   "cell_type": "code",
   "execution_count": null,
   "metadata": {},
   "outputs": [],
   "source": []
  }
 ],
 "metadata": {
  "kernelspec": {
   "display_name": "Python 3",
   "language": "python",
   "name": "python3"
  },
  "language_info": {
   "codemirror_mode": {
    "name": "ipython",
    "version": 3
   },
   "file_extension": ".py",
   "mimetype": "text/x-python",
   "name": "python",
   "nbconvert_exporter": "python",
   "pygments_lexer": "ipython3",
   "version": "3.7.6"
  }
 },
 "nbformat": 4,
 "nbformat_minor": 4
}
